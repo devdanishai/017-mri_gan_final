{
 "cells": [
  {
   "cell_type": "code",
   "execution_count": 1,
   "metadata": {},
   "outputs": [
    {
     "name": "stderr",
     "output_type": "stream",
     "text": [
      "100%|██████████| 62/62 [00:03<00:00, 17.57it/s]\n"
     ]
    },
    {
     "name": "stdout",
     "output_type": "stream",
     "text": [
      "Saved image: generated_images3/fake_samples_epoch_1.png\n",
      "Epoch [1/300] Loss_D: 0.0026 Loss_G: 7.4099\n"
     ]
    },
    {
     "name": "stderr",
     "output_type": "stream",
     "text": [
      "100%|██████████| 62/62 [00:03<00:00, 17.94it/s]\n"
     ]
    },
    {
     "name": "stdout",
     "output_type": "stream",
     "text": [
      "Saved image: generated_images3/fake_samples_epoch_2.png\n",
      "Epoch [2/300] Loss_D: 13.6470 Loss_G: 12.0244\n"
     ]
    },
    {
     "name": "stderr",
     "output_type": "stream",
     "text": [
      "100%|██████████| 62/62 [00:03<00:00, 17.82it/s]\n"
     ]
    },
    {
     "name": "stdout",
     "output_type": "stream",
     "text": [
      "Saved image: generated_images3/fake_samples_epoch_3.png\n",
      "Epoch [3/300] Loss_D: 0.0398 Loss_G: 17.1438\n"
     ]
    },
    {
     "name": "stderr",
     "output_type": "stream",
     "text": [
      "100%|██████████| 62/62 [00:03<00:00, 17.45it/s]\n"
     ]
    },
    {
     "name": "stdout",
     "output_type": "stream",
     "text": [
      "Saved image: generated_images3/fake_samples_epoch_4.png\n",
      "Epoch [4/300] Loss_D: 1.1885 Loss_G: 0.9407\n"
     ]
    },
    {
     "name": "stderr",
     "output_type": "stream",
     "text": [
      "100%|██████████| 62/62 [00:03<00:00, 15.91it/s]\n"
     ]
    },
    {
     "name": "stdout",
     "output_type": "stream",
     "text": [
      "Saved image: generated_images3/fake_samples_epoch_5.png\n",
      "Epoch [5/300] Loss_D: 0.3425 Loss_G: 1.9436\n"
     ]
    },
    {
     "name": "stderr",
     "output_type": "stream",
     "text": [
      "100%|██████████| 62/62 [00:03<00:00, 16.18it/s]\n"
     ]
    },
    {
     "name": "stdout",
     "output_type": "stream",
     "text": [
      "Saved image: generated_images3/fake_samples_epoch_6.png\n",
      "Epoch [6/300] Loss_D: 0.5995 Loss_G: 2.4714\n"
     ]
    },
    {
     "name": "stderr",
     "output_type": "stream",
     "text": [
      "100%|██████████| 62/62 [00:03<00:00, 16.15it/s]\n"
     ]
    },
    {
     "name": "stdout",
     "output_type": "stream",
     "text": [
      "Saved image: generated_images3/fake_samples_epoch_7.png\n",
      "Epoch [7/300] Loss_D: 0.6850 Loss_G: 3.4566\n"
     ]
    },
    {
     "name": "stderr",
     "output_type": "stream",
     "text": [
      "100%|██████████| 62/62 [00:03<00:00, 16.32it/s]\n"
     ]
    },
    {
     "name": "stdout",
     "output_type": "stream",
     "text": [
      "Saved image: generated_images3/fake_samples_epoch_8.png\n",
      "Epoch [8/300] Loss_D: 0.4819 Loss_G: 3.7487\n"
     ]
    },
    {
     "name": "stderr",
     "output_type": "stream",
     "text": [
      "100%|██████████| 62/62 [00:02<00:00, 30.58it/s]\n"
     ]
    },
    {
     "name": "stdout",
     "output_type": "stream",
     "text": [
      "Saved image: generated_images3/fake_samples_epoch_9.png\n",
      "Epoch [9/300] Loss_D: 0.8000 Loss_G: 2.2243\n"
     ]
    },
    {
     "name": "stderr",
     "output_type": "stream",
     "text": [
      "100%|██████████| 62/62 [00:03<00:00, 15.94it/s]\n"
     ]
    },
    {
     "name": "stdout",
     "output_type": "stream",
     "text": [
      "Saved image: generated_images3/fake_samples_epoch_10.png\n",
      "Epoch [10/300] Loss_D: 0.7702 Loss_G: 3.6093\n"
     ]
    },
    {
     "name": "stderr",
     "output_type": "stream",
     "text": [
      "100%|██████████| 62/62 [00:03<00:00, 16.27it/s]\n"
     ]
    },
    {
     "name": "stdout",
     "output_type": "stream",
     "text": [
      "Saved image: generated_images3/fake_samples_epoch_11.png\n",
      "Epoch [11/300] Loss_D: 0.5515 Loss_G: 2.5095\n"
     ]
    },
    {
     "name": "stderr",
     "output_type": "stream",
     "text": [
      "100%|██████████| 62/62 [00:03<00:00, 15.75it/s]\n"
     ]
    },
    {
     "name": "stdout",
     "output_type": "stream",
     "text": [
      "Saved image: generated_images3/fake_samples_epoch_12.png\n",
      "Epoch [12/300] Loss_D: 0.5896 Loss_G: 2.7679\n"
     ]
    },
    {
     "name": "stderr",
     "output_type": "stream",
     "text": [
      "100%|██████████| 62/62 [00:03<00:00, 16.03it/s]\n"
     ]
    },
    {
     "name": "stdout",
     "output_type": "stream",
     "text": [
      "Saved image: generated_images3/fake_samples_epoch_13.png\n",
      "Epoch [13/300] Loss_D: 0.5045 Loss_G: 3.5861\n"
     ]
    },
    {
     "name": "stderr",
     "output_type": "stream",
     "text": [
      "100%|██████████| 62/62 [00:03<00:00, 16.08it/s]\n"
     ]
    },
    {
     "name": "stdout",
     "output_type": "stream",
     "text": [
      "Saved image: generated_images3/fake_samples_epoch_14.png\n",
      "Epoch [14/300] Loss_D: 0.6376 Loss_G: 2.7265\n"
     ]
    },
    {
     "name": "stderr",
     "output_type": "stream",
     "text": [
      "100%|██████████| 62/62 [00:03<00:00, 16.39it/s]\n"
     ]
    },
    {
     "name": "stdout",
     "output_type": "stream",
     "text": [
      "Saved image: generated_images3/fake_samples_epoch_15.png\n",
      "Epoch [15/300] Loss_D: 0.5244 Loss_G: 3.0464\n"
     ]
    },
    {
     "name": "stderr",
     "output_type": "stream",
     "text": [
      "100%|██████████| 62/62 [00:03<00:00, 16.35it/s]\n"
     ]
    },
    {
     "name": "stdout",
     "output_type": "stream",
     "text": [
      "Saved image: generated_images3/fake_samples_epoch_16.png\n",
      "Epoch [16/300] Loss_D: 0.8362 Loss_G: 2.8459\n"
     ]
    },
    {
     "name": "stderr",
     "output_type": "stream",
     "text": [
      "100%|██████████| 62/62 [00:02<00:00, 24.17it/s]\n"
     ]
    },
    {
     "name": "stdout",
     "output_type": "stream",
     "text": [
      "Saved image: generated_images3/fake_samples_epoch_17.png\n",
      "Epoch [17/300] Loss_D: 0.6609 Loss_G: 2.1846\n"
     ]
    },
    {
     "name": "stderr",
     "output_type": "stream",
     "text": [
      "100%|██████████| 62/62 [00:03<00:00, 15.92it/s]\n"
     ]
    },
    {
     "name": "stdout",
     "output_type": "stream",
     "text": [
      "Saved image: generated_images3/fake_samples_epoch_18.png\n",
      "Epoch [18/300] Loss_D: 1.0238 Loss_G: 0.8123\n"
     ]
    },
    {
     "name": "stderr",
     "output_type": "stream",
     "text": [
      "100%|██████████| 62/62 [00:03<00:00, 16.33it/s]\n"
     ]
    },
    {
     "name": "stdout",
     "output_type": "stream",
     "text": [
      "Saved image: generated_images3/fake_samples_epoch_19.png\n",
      "Epoch [19/300] Loss_D: 0.4171 Loss_G: 4.3423\n"
     ]
    },
    {
     "name": "stderr",
     "output_type": "stream",
     "text": [
      "100%|██████████| 62/62 [00:03<00:00, 16.50it/s]\n"
     ]
    },
    {
     "name": "stdout",
     "output_type": "stream",
     "text": [
      "Saved image: generated_images3/fake_samples_epoch_20.png\n",
      "Epoch [20/300] Loss_D: 1.1923 Loss_G: 5.3197\n"
     ]
    },
    {
     "name": "stderr",
     "output_type": "stream",
     "text": [
      "100%|██████████| 62/62 [00:03<00:00, 16.47it/s]\n"
     ]
    },
    {
     "name": "stdout",
     "output_type": "stream",
     "text": [
      "Saved image: generated_images3/fake_samples_epoch_21.png\n",
      "Epoch [21/300] Loss_D: 0.6163 Loss_G: 0.9142\n"
     ]
    },
    {
     "name": "stderr",
     "output_type": "stream",
     "text": [
      "100%|██████████| 62/62 [00:03<00:00, 16.29it/s]\n"
     ]
    },
    {
     "name": "stdout",
     "output_type": "stream",
     "text": [
      "Saved image: generated_images3/fake_samples_epoch_22.png\n",
      "Epoch [22/300] Loss_D: 0.7305 Loss_G: 3.2521\n"
     ]
    },
    {
     "name": "stderr",
     "output_type": "stream",
     "text": [
      "100%|██████████| 62/62 [00:03<00:00, 16.37it/s]\n"
     ]
    },
    {
     "name": "stdout",
     "output_type": "stream",
     "text": [
      "Saved image: generated_images3/fake_samples_epoch_23.png\n",
      "Epoch [23/300] Loss_D: 0.7549 Loss_G: 5.1374\n"
     ]
    },
    {
     "name": "stderr",
     "output_type": "stream",
     "text": [
      "100%|██████████| 62/62 [00:03<00:00, 16.58it/s]\n"
     ]
    },
    {
     "name": "stdout",
     "output_type": "stream",
     "text": [
      "Saved image: generated_images3/fake_samples_epoch_24.png\n",
      "Epoch [24/300] Loss_D: 0.8415 Loss_G: 2.1447\n"
     ]
    },
    {
     "name": "stderr",
     "output_type": "stream",
     "text": [
      "100%|██████████| 62/62 [00:03<00:00, 16.29it/s]\n"
     ]
    },
    {
     "name": "stdout",
     "output_type": "stream",
     "text": [
      "Saved image: generated_images3/fake_samples_epoch_25.png\n",
      "Epoch [25/300] Loss_D: 0.7736 Loss_G: 1.2132\n"
     ]
    },
    {
     "name": "stderr",
     "output_type": "stream",
     "text": [
      "100%|██████████| 62/62 [00:02<00:00, 23.55it/s]\n"
     ]
    },
    {
     "name": "stdout",
     "output_type": "stream",
     "text": [
      "Saved image: generated_images3/fake_samples_epoch_26.png\n",
      "Epoch [26/300] Loss_D: 0.6725 Loss_G: 6.3328\n"
     ]
    },
    {
     "name": "stderr",
     "output_type": "stream",
     "text": [
      "100%|██████████| 62/62 [00:03<00:00, 15.78it/s]\n"
     ]
    },
    {
     "name": "stdout",
     "output_type": "stream",
     "text": [
      "Saved image: generated_images3/fake_samples_epoch_27.png\n",
      "Epoch [27/300] Loss_D: 0.3608 Loss_G: 3.3650\n"
     ]
    },
    {
     "name": "stderr",
     "output_type": "stream",
     "text": [
      "100%|██████████| 62/62 [00:03<00:00, 16.49it/s]\n"
     ]
    },
    {
     "name": "stdout",
     "output_type": "stream",
     "text": [
      "Saved image: generated_images3/fake_samples_epoch_28.png\n",
      "Epoch [28/300] Loss_D: 0.4140 Loss_G: 2.5536\n"
     ]
    },
    {
     "name": "stderr",
     "output_type": "stream",
     "text": [
      "100%|██████████| 62/62 [00:03<00:00, 15.96it/s]\n"
     ]
    },
    {
     "name": "stdout",
     "output_type": "stream",
     "text": [
      "Saved image: generated_images3/fake_samples_epoch_29.png\n",
      "Epoch [29/300] Loss_D: 0.3711 Loss_G: 2.3618\n"
     ]
    },
    {
     "name": "stderr",
     "output_type": "stream",
     "text": [
      "100%|██████████| 62/62 [00:03<00:00, 15.87it/s]\n"
     ]
    },
    {
     "name": "stdout",
     "output_type": "stream",
     "text": [
      "Saved image: generated_images3/fake_samples_epoch_30.png\n",
      "Epoch [30/300] Loss_D: 0.2553 Loss_G: 3.3137\n"
     ]
    },
    {
     "name": "stderr",
     "output_type": "stream",
     "text": [
      "100%|██████████| 62/62 [00:03<00:00, 15.71it/s]\n"
     ]
    },
    {
     "name": "stdout",
     "output_type": "stream",
     "text": [
      "Saved image: generated_images3/fake_samples_epoch_31.png\n",
      "Epoch [31/300] Loss_D: 0.4442 Loss_G: 2.9170\n"
     ]
    },
    {
     "name": "stderr",
     "output_type": "stream",
     "text": [
      "100%|██████████| 62/62 [00:03<00:00, 16.09it/s]\n"
     ]
    },
    {
     "name": "stdout",
     "output_type": "stream",
     "text": [
      "Saved image: generated_images3/fake_samples_epoch_32.png\n",
      "Epoch [32/300] Loss_D: 0.5896 Loss_G: 7.3265\n"
     ]
    },
    {
     "name": "stderr",
     "output_type": "stream",
     "text": [
      "100%|██████████| 62/62 [00:03<00:00, 15.92it/s]\n"
     ]
    },
    {
     "name": "stdout",
     "output_type": "stream",
     "text": [
      "Saved image: generated_images3/fake_samples_epoch_33.png\n",
      "Epoch [33/300] Loss_D: 0.3123 Loss_G: 3.6242\n"
     ]
    },
    {
     "name": "stderr",
     "output_type": "stream",
     "text": [
      "100%|██████████| 62/62 [00:02<00:00, 23.88it/s]\n"
     ]
    },
    {
     "name": "stdout",
     "output_type": "stream",
     "text": [
      "Saved image: generated_images3/fake_samples_epoch_34.png\n",
      "Epoch [34/300] Loss_D: 0.9172 Loss_G: 4.1252\n"
     ]
    },
    {
     "name": "stderr",
     "output_type": "stream",
     "text": [
      "100%|██████████| 62/62 [00:03<00:00, 16.03it/s]\n"
     ]
    },
    {
     "name": "stdout",
     "output_type": "stream",
     "text": [
      "Saved image: generated_images3/fake_samples_epoch_35.png\n",
      "Epoch [35/300] Loss_D: 0.3590 Loss_G: 2.9656\n"
     ]
    },
    {
     "name": "stderr",
     "output_type": "stream",
     "text": [
      "100%|██████████| 62/62 [00:03<00:00, 15.88it/s]\n"
     ]
    },
    {
     "name": "stdout",
     "output_type": "stream",
     "text": [
      "Saved image: generated_images3/fake_samples_epoch_36.png\n",
      "Epoch [36/300] Loss_D: 0.8667 Loss_G: 5.2578\n"
     ]
    },
    {
     "name": "stderr",
     "output_type": "stream",
     "text": [
      "100%|██████████| 62/62 [00:03<00:00, 15.85it/s]\n"
     ]
    },
    {
     "name": "stdout",
     "output_type": "stream",
     "text": [
      "Saved image: generated_images3/fake_samples_epoch_37.png\n",
      "Epoch [37/300] Loss_D: 0.2299 Loss_G: 4.1126\n"
     ]
    },
    {
     "name": "stderr",
     "output_type": "stream",
     "text": [
      "100%|██████████| 62/62 [00:03<00:00, 16.18it/s]\n"
     ]
    },
    {
     "name": "stdout",
     "output_type": "stream",
     "text": [
      "Saved image: generated_images3/fake_samples_epoch_38.png\n",
      "Epoch [38/300] Loss_D: 0.4740 Loss_G: 4.9675\n"
     ]
    },
    {
     "name": "stderr",
     "output_type": "stream",
     "text": [
      "100%|██████████| 62/62 [00:03<00:00, 15.94it/s]\n"
     ]
    },
    {
     "name": "stdout",
     "output_type": "stream",
     "text": [
      "Saved image: generated_images3/fake_samples_epoch_39.png\n",
      "Epoch [39/300] Loss_D: 0.4087 Loss_G: 3.8243\n"
     ]
    },
    {
     "name": "stderr",
     "output_type": "stream",
     "text": [
      "100%|██████████| 62/62 [00:03<00:00, 15.85it/s]\n"
     ]
    },
    {
     "name": "stdout",
     "output_type": "stream",
     "text": [
      "Saved image: generated_images3/fake_samples_epoch_40.png\n",
      "Epoch [40/300] Loss_D: 0.9104 Loss_G: 6.6344\n"
     ]
    },
    {
     "name": "stderr",
     "output_type": "stream",
     "text": [
      "100%|██████████| 62/62 [00:03<00:00, 15.85it/s]\n"
     ]
    },
    {
     "name": "stdout",
     "output_type": "stream",
     "text": [
      "Saved image: generated_images3/fake_samples_epoch_41.png\n",
      "Epoch [41/300] Loss_D: 0.2708 Loss_G: 4.3727\n"
     ]
    },
    {
     "name": "stderr",
     "output_type": "stream",
     "text": [
      "100%|██████████| 62/62 [00:02<00:00, 24.10it/s]\n"
     ]
    },
    {
     "name": "stdout",
     "output_type": "stream",
     "text": [
      "Saved image: generated_images3/fake_samples_epoch_42.png\n",
      "Epoch [42/300] Loss_D: 0.3621 Loss_G: 2.5025\n"
     ]
    },
    {
     "name": "stderr",
     "output_type": "stream",
     "text": [
      "100%|██████████| 62/62 [00:03<00:00, 15.69it/s]\n"
     ]
    },
    {
     "name": "stdout",
     "output_type": "stream",
     "text": [
      "Saved image: generated_images3/fake_samples_epoch_43.png\n",
      "Epoch [43/300] Loss_D: 0.2877 Loss_G: 3.2722\n"
     ]
    },
    {
     "name": "stderr",
     "output_type": "stream",
     "text": [
      "100%|██████████| 62/62 [00:03<00:00, 16.08it/s]\n"
     ]
    },
    {
     "name": "stdout",
     "output_type": "stream",
     "text": [
      "Saved image: generated_images3/fake_samples_epoch_44.png\n",
      "Epoch [44/300] Loss_D: 0.1563 Loss_G: 4.7269\n"
     ]
    },
    {
     "name": "stderr",
     "output_type": "stream",
     "text": [
      "100%|██████████| 62/62 [00:03<00:00, 15.93it/s]\n"
     ]
    },
    {
     "name": "stdout",
     "output_type": "stream",
     "text": [
      "Saved image: generated_images3/fake_samples_epoch_45.png\n",
      "Epoch [45/300] Loss_D: 0.2982 Loss_G: 4.2623\n"
     ]
    },
    {
     "name": "stderr",
     "output_type": "stream",
     "text": [
      "100%|██████████| 62/62 [00:03<00:00, 15.72it/s]\n"
     ]
    },
    {
     "name": "stdout",
     "output_type": "stream",
     "text": [
      "Saved image: generated_images3/fake_samples_epoch_46.png\n",
      "Epoch [46/300] Loss_D: 0.9895 Loss_G: 9.8841\n"
     ]
    },
    {
     "name": "stderr",
     "output_type": "stream",
     "text": [
      "100%|██████████| 62/62 [00:03<00:00, 16.18it/s]\n"
     ]
    },
    {
     "name": "stdout",
     "output_type": "stream",
     "text": [
      "Saved image: generated_images3/fake_samples_epoch_47.png\n",
      "Epoch [47/300] Loss_D: 0.4180 Loss_G: 2.2074\n"
     ]
    },
    {
     "name": "stderr",
     "output_type": "stream",
     "text": [
      "100%|██████████| 62/62 [00:03<00:00, 16.26it/s]\n"
     ]
    },
    {
     "name": "stdout",
     "output_type": "stream",
     "text": [
      "Saved image: generated_images3/fake_samples_epoch_48.png\n",
      "Epoch [48/300] Loss_D: 1.3860 Loss_G: 3.2775\n"
     ]
    },
    {
     "name": "stderr",
     "output_type": "stream",
     "text": [
      "100%|██████████| 62/62 [00:03<00:00, 15.88it/s]\n"
     ]
    },
    {
     "name": "stdout",
     "output_type": "stream",
     "text": [
      "Saved image: generated_images3/fake_samples_epoch_49.png\n",
      "Epoch [49/300] Loss_D: 0.2616 Loss_G: 4.0848\n"
     ]
    },
    {
     "name": "stderr",
     "output_type": "stream",
     "text": [
      "100%|██████████| 62/62 [00:02<00:00, 23.39it/s]\n"
     ]
    },
    {
     "name": "stdout",
     "output_type": "stream",
     "text": [
      "Saved image: generated_images3/fake_samples_epoch_50.png\n",
      "Epoch [50/300] Loss_D: 0.2603 Loss_G: 2.4692\n"
     ]
    },
    {
     "name": "stderr",
     "output_type": "stream",
     "text": [
      "100%|██████████| 62/62 [00:03<00:00, 16.17it/s]\n"
     ]
    },
    {
     "name": "stdout",
     "output_type": "stream",
     "text": [
      "Saved image: generated_images3/fake_samples_epoch_51.png\n",
      "Epoch [51/300] Loss_D: 0.0987 Loss_G: 4.4243\n"
     ]
    },
    {
     "name": "stderr",
     "output_type": "stream",
     "text": [
      "100%|██████████| 62/62 [00:03<00:00, 15.99it/s]\n"
     ]
    },
    {
     "name": "stdout",
     "output_type": "stream",
     "text": [
      "Saved image: generated_images3/fake_samples_epoch_52.png\n",
      "Epoch [52/300] Loss_D: 0.7089 Loss_G: 2.1705\n"
     ]
    },
    {
     "name": "stderr",
     "output_type": "stream",
     "text": [
      "100%|██████████| 62/62 [00:03<00:00, 15.63it/s]\n"
     ]
    },
    {
     "name": "stdout",
     "output_type": "stream",
     "text": [
      "Saved image: generated_images3/fake_samples_epoch_53.png\n",
      "Epoch [53/300] Loss_D: 0.3217 Loss_G: 8.2089\n"
     ]
    },
    {
     "name": "stderr",
     "output_type": "stream",
     "text": [
      "100%|██████████| 62/62 [00:04<00:00, 15.31it/s]\n"
     ]
    },
    {
     "name": "stdout",
     "output_type": "stream",
     "text": [
      "Saved image: generated_images3/fake_samples_epoch_54.png\n",
      "Epoch [54/300] Loss_D: 0.2509 Loss_G: 2.3306\n"
     ]
    },
    {
     "name": "stderr",
     "output_type": "stream",
     "text": [
      "100%|██████████| 62/62 [00:03<00:00, 15.97it/s]\n"
     ]
    },
    {
     "name": "stdout",
     "output_type": "stream",
     "text": [
      "Saved image: generated_images3/fake_samples_epoch_55.png\n",
      "Epoch [55/300] Loss_D: 2.7071 Loss_G: 0.5175\n"
     ]
    },
    {
     "name": "stderr",
     "output_type": "stream",
     "text": [
      "100%|██████████| 62/62 [00:03<00:00, 15.91it/s]\n"
     ]
    },
    {
     "name": "stdout",
     "output_type": "stream",
     "text": [
      "Saved image: generated_images3/fake_samples_epoch_56.png\n",
      "Epoch [56/300] Loss_D: 0.6503 Loss_G: 0.9712\n"
     ]
    },
    {
     "name": "stderr",
     "output_type": "stream",
     "text": [
      "100%|██████████| 62/62 [00:03<00:00, 16.20it/s]\n"
     ]
    },
    {
     "name": "stdout",
     "output_type": "stream",
     "text": [
      "Saved image: generated_images3/fake_samples_epoch_57.png\n",
      "Epoch [57/300] Loss_D: 0.1624 Loss_G: 4.3260\n"
     ]
    },
    {
     "name": "stderr",
     "output_type": "stream",
     "text": [
      "100%|██████████| 62/62 [00:03<00:00, 16.24it/s]\n"
     ]
    },
    {
     "name": "stdout",
     "output_type": "stream",
     "text": [
      "Saved image: generated_images3/fake_samples_epoch_58.png\n",
      "Epoch [58/300] Loss_D: 0.2142 Loss_G: 5.2529\n"
     ]
    },
    {
     "name": "stderr",
     "output_type": "stream",
     "text": [
      "100%|██████████| 62/62 [00:02<00:00, 23.74it/s]\n"
     ]
    },
    {
     "name": "stdout",
     "output_type": "stream",
     "text": [
      "Saved image: generated_images3/fake_samples_epoch_59.png\n",
      "Epoch [59/300] Loss_D: 0.2531 Loss_G: 5.0106\n"
     ]
    },
    {
     "name": "stderr",
     "output_type": "stream",
     "text": [
      "100%|██████████| 62/62 [00:03<00:00, 16.21it/s]\n"
     ]
    },
    {
     "name": "stdout",
     "output_type": "stream",
     "text": [
      "Saved image: generated_images3/fake_samples_epoch_60.png\n",
      "Epoch [60/300] Loss_D: 2.1702 Loss_G: 12.6293\n"
     ]
    },
    {
     "name": "stderr",
     "output_type": "stream",
     "text": [
      "100%|██████████| 62/62 [00:03<00:00, 16.20it/s]\n"
     ]
    },
    {
     "name": "stdout",
     "output_type": "stream",
     "text": [
      "Saved image: generated_images3/fake_samples_epoch_61.png\n",
      "Epoch [61/300] Loss_D: 0.1481 Loss_G: 4.3229\n"
     ]
    },
    {
     "name": "stderr",
     "output_type": "stream",
     "text": [
      "100%|██████████| 62/62 [00:03<00:00, 16.09it/s]\n"
     ]
    },
    {
     "name": "stdout",
     "output_type": "stream",
     "text": [
      "Saved image: generated_images3/fake_samples_epoch_62.png\n",
      "Epoch [62/300] Loss_D: 0.2606 Loss_G: 7.7755\n"
     ]
    },
    {
     "name": "stderr",
     "output_type": "stream",
     "text": [
      "100%|██████████| 62/62 [00:03<00:00, 15.84it/s]\n"
     ]
    },
    {
     "name": "stdout",
     "output_type": "stream",
     "text": [
      "Saved image: generated_images3/fake_samples_epoch_63.png\n",
      "Epoch [63/300] Loss_D: 0.1363 Loss_G: 4.5785\n"
     ]
    },
    {
     "name": "stderr",
     "output_type": "stream",
     "text": [
      "100%|██████████| 62/62 [00:03<00:00, 15.85it/s]\n"
     ]
    },
    {
     "name": "stdout",
     "output_type": "stream",
     "text": [
      "Saved image: generated_images3/fake_samples_epoch_64.png\n",
      "Epoch [64/300] Loss_D: 0.1262 Loss_G: 4.1037\n"
     ]
    },
    {
     "name": "stderr",
     "output_type": "stream",
     "text": [
      "100%|██████████| 62/62 [00:03<00:00, 15.76it/s]\n"
     ]
    },
    {
     "name": "stdout",
     "output_type": "stream",
     "text": [
      "Saved image: generated_images3/fake_samples_epoch_65.png\n",
      "Epoch [65/300] Loss_D: 1.3407 Loss_G: 9.4874\n"
     ]
    },
    {
     "name": "stderr",
     "output_type": "stream",
     "text": [
      "100%|██████████| 62/62 [00:03<00:00, 16.08it/s]\n"
     ]
    },
    {
     "name": "stdout",
     "output_type": "stream",
     "text": [
      "Saved image: generated_images3/fake_samples_epoch_66.png\n",
      "Epoch [66/300] Loss_D: 0.1302 Loss_G: 7.1898\n"
     ]
    },
    {
     "name": "stderr",
     "output_type": "stream",
     "text": [
      "100%|██████████| 62/62 [00:03<00:00, 16.16it/s]\n"
     ]
    },
    {
     "name": "stdout",
     "output_type": "stream",
     "text": [
      "Saved image: generated_images3/fake_samples_epoch_67.png\n",
      "Epoch [67/300] Loss_D: 0.3171 Loss_G: 1.5692\n"
     ]
    },
    {
     "name": "stderr",
     "output_type": "stream",
     "text": [
      "100%|██████████| 62/62 [00:03<00:00, 16.80it/s]\n"
     ]
    },
    {
     "name": "stdout",
     "output_type": "stream",
     "text": [
      "Saved image: generated_images3/fake_samples_epoch_68.png\n",
      "Epoch [68/300] Loss_D: 0.2799 Loss_G: 6.5038\n"
     ]
    },
    {
     "name": "stderr",
     "output_type": "stream",
     "text": [
      "100%|██████████| 62/62 [00:03<00:00, 16.20it/s]\n"
     ]
    },
    {
     "name": "stdout",
     "output_type": "stream",
     "text": [
      "Saved image: generated_images3/fake_samples_epoch_69.png\n",
      "Epoch [69/300] Loss_D: 0.8183 Loss_G: 10.2426\n"
     ]
    },
    {
     "name": "stderr",
     "output_type": "stream",
     "text": [
      "100%|██████████| 62/62 [00:03<00:00, 15.90it/s]\n"
     ]
    },
    {
     "name": "stdout",
     "output_type": "stream",
     "text": [
      "Saved image: generated_images3/fake_samples_epoch_70.png\n",
      "Epoch [70/300] Loss_D: 0.1413 Loss_G: 4.4543\n"
     ]
    },
    {
     "name": "stderr",
     "output_type": "stream",
     "text": [
      "100%|██████████| 62/62 [00:02<00:00, 29.48it/s]\n"
     ]
    },
    {
     "name": "stdout",
     "output_type": "stream",
     "text": [
      "Saved image: generated_images3/fake_samples_epoch_71.png\n",
      "Epoch [71/300] Loss_D: 0.2029 Loss_G: 2.9365\n"
     ]
    },
    {
     "name": "stderr",
     "output_type": "stream",
     "text": [
      "100%|██████████| 62/62 [00:03<00:00, 15.90it/s]\n"
     ]
    },
    {
     "name": "stdout",
     "output_type": "stream",
     "text": [
      "Saved image: generated_images3/fake_samples_epoch_72.png\n",
      "Epoch [72/300] Loss_D: 0.5611 Loss_G: 3.0746\n"
     ]
    },
    {
     "name": "stderr",
     "output_type": "stream",
     "text": [
      "100%|██████████| 62/62 [00:03<00:00, 16.01it/s]\n"
     ]
    },
    {
     "name": "stdout",
     "output_type": "stream",
     "text": [
      "Saved image: generated_images3/fake_samples_epoch_73.png\n",
      "Epoch [73/300] Loss_D: 0.3461 Loss_G: 2.8285\n"
     ]
    },
    {
     "name": "stderr",
     "output_type": "stream",
     "text": [
      "100%|██████████| 62/62 [00:03<00:00, 15.80it/s]\n"
     ]
    },
    {
     "name": "stdout",
     "output_type": "stream",
     "text": [
      "Saved image: generated_images3/fake_samples_epoch_74.png\n",
      "Epoch [74/300] Loss_D: 0.1248 Loss_G: 3.4423\n"
     ]
    },
    {
     "name": "stderr",
     "output_type": "stream",
     "text": [
      "100%|██████████| 62/62 [00:03<00:00, 16.01it/s]\n"
     ]
    },
    {
     "name": "stdout",
     "output_type": "stream",
     "text": [
      "Saved image: generated_images3/fake_samples_epoch_75.png\n",
      "Epoch [75/300] Loss_D: 0.0878 Loss_G: 4.7605\n"
     ]
    },
    {
     "name": "stderr",
     "output_type": "stream",
     "text": [
      "100%|██████████| 62/62 [00:03<00:00, 16.16it/s]\n"
     ]
    },
    {
     "name": "stdout",
     "output_type": "stream",
     "text": [
      "Saved image: generated_images3/fake_samples_epoch_76.png\n",
      "Epoch [76/300] Loss_D: 0.2777 Loss_G: 2.5393\n"
     ]
    },
    {
     "name": "stderr",
     "output_type": "stream",
     "text": [
      "100%|██████████| 62/62 [00:03<00:00, 15.69it/s]\n"
     ]
    },
    {
     "name": "stdout",
     "output_type": "stream",
     "text": [
      "Saved image: generated_images3/fake_samples_epoch_77.png\n",
      "Epoch [77/300] Loss_D: 0.1670 Loss_G: 3.9319\n"
     ]
    },
    {
     "name": "stderr",
     "output_type": "stream",
     "text": [
      "100%|██████████| 62/62 [00:03<00:00, 15.61it/s]\n"
     ]
    },
    {
     "name": "stdout",
     "output_type": "stream",
     "text": [
      "Saved image: generated_images3/fake_samples_epoch_78.png\n",
      "Epoch [78/300] Loss_D: 0.0321 Loss_G: 4.8014\n"
     ]
    },
    {
     "name": "stderr",
     "output_type": "stream",
     "text": [
      "100%|██████████| 62/62 [00:02<00:00, 22.28it/s]\n"
     ]
    },
    {
     "name": "stdout",
     "output_type": "stream",
     "text": [
      "Saved image: generated_images3/fake_samples_epoch_79.png\n",
      "Epoch [79/300] Loss_D: 0.2879 Loss_G: 4.1597\n"
     ]
    },
    {
     "name": "stderr",
     "output_type": "stream",
     "text": [
      "100%|██████████| 62/62 [00:03<00:00, 15.58it/s]\n"
     ]
    },
    {
     "name": "stdout",
     "output_type": "stream",
     "text": [
      "Saved image: generated_images3/fake_samples_epoch_80.png\n",
      "Epoch [80/300] Loss_D: 0.1732 Loss_G: 4.6397\n"
     ]
    },
    {
     "name": "stderr",
     "output_type": "stream",
     "text": [
      "100%|██████████| 62/62 [00:03<00:00, 15.85it/s]\n"
     ]
    },
    {
     "name": "stdout",
     "output_type": "stream",
     "text": [
      "Saved image: generated_images3/fake_samples_epoch_81.png\n",
      "Epoch [81/300] Loss_D: 0.3444 Loss_G: 3.2512\n"
     ]
    },
    {
     "name": "stderr",
     "output_type": "stream",
     "text": [
      "100%|██████████| 62/62 [00:03<00:00, 16.07it/s]\n"
     ]
    },
    {
     "name": "stdout",
     "output_type": "stream",
     "text": [
      "Saved image: generated_images3/fake_samples_epoch_82.png\n",
      "Epoch [82/300] Loss_D: 0.1112 Loss_G: 4.8768\n"
     ]
    },
    {
     "name": "stderr",
     "output_type": "stream",
     "text": [
      "100%|██████████| 62/62 [00:03<00:00, 16.34it/s]\n"
     ]
    },
    {
     "name": "stdout",
     "output_type": "stream",
     "text": [
      "Saved image: generated_images3/fake_samples_epoch_83.png\n",
      "Epoch [83/300] Loss_D: 0.0583 Loss_G: 5.7980\n"
     ]
    },
    {
     "name": "stderr",
     "output_type": "stream",
     "text": [
      "100%|██████████| 62/62 [00:03<00:00, 15.91it/s]\n"
     ]
    },
    {
     "name": "stdout",
     "output_type": "stream",
     "text": [
      "Saved image: generated_images3/fake_samples_epoch_84.png\n",
      "Epoch [84/300] Loss_D: 0.0952 Loss_G: 3.6522\n"
     ]
    },
    {
     "name": "stderr",
     "output_type": "stream",
     "text": [
      "100%|██████████| 62/62 [00:03<00:00, 16.27it/s]\n"
     ]
    },
    {
     "name": "stdout",
     "output_type": "stream",
     "text": [
      "Saved image: generated_images3/fake_samples_epoch_85.png\n",
      "Epoch [85/300] Loss_D: 0.1858 Loss_G: 7.9383\n"
     ]
    },
    {
     "name": "stderr",
     "output_type": "stream",
     "text": [
      "100%|██████████| 62/62 [00:04<00:00, 15.29it/s]\n"
     ]
    },
    {
     "name": "stdout",
     "output_type": "stream",
     "text": [
      "Saved image: generated_images3/fake_samples_epoch_86.png\n",
      "Epoch [86/300] Loss_D: 1.9215 Loss_G: 18.1741\n"
     ]
    },
    {
     "name": "stderr",
     "output_type": "stream",
     "text": [
      "100%|██████████| 62/62 [00:02<00:00, 21.98it/s]\n"
     ]
    },
    {
     "name": "stdout",
     "output_type": "stream",
     "text": [
      "Saved image: generated_images3/fake_samples_epoch_87.png\n",
      "Epoch [87/300] Loss_D: 0.4334 Loss_G: 6.5771\n"
     ]
    },
    {
     "name": "stderr",
     "output_type": "stream",
     "text": [
      "100%|██████████| 62/62 [00:03<00:00, 15.80it/s]\n"
     ]
    },
    {
     "name": "stdout",
     "output_type": "stream",
     "text": [
      "Saved image: generated_images3/fake_samples_epoch_88.png\n",
      "Epoch [88/300] Loss_D: 0.2113 Loss_G: 3.7760\n"
     ]
    },
    {
     "name": "stderr",
     "output_type": "stream",
     "text": [
      "100%|██████████| 62/62 [00:03<00:00, 16.04it/s]\n"
     ]
    },
    {
     "name": "stdout",
     "output_type": "stream",
     "text": [
      "Saved image: generated_images3/fake_samples_epoch_89.png\n",
      "Epoch [89/300] Loss_D: 0.0638 Loss_G: 5.0135\n"
     ]
    },
    {
     "name": "stderr",
     "output_type": "stream",
     "text": [
      "100%|██████████| 62/62 [00:03<00:00, 16.03it/s]\n"
     ]
    },
    {
     "name": "stdout",
     "output_type": "stream",
     "text": [
      "Saved image: generated_images3/fake_samples_epoch_90.png\n",
      "Epoch [90/300] Loss_D: 0.1046 Loss_G: 5.3255\n"
     ]
    },
    {
     "name": "stderr",
     "output_type": "stream",
     "text": [
      "100%|██████████| 62/62 [00:03<00:00, 15.95it/s]\n"
     ]
    },
    {
     "name": "stdout",
     "output_type": "stream",
     "text": [
      "Saved image: generated_images3/fake_samples_epoch_91.png\n",
      "Epoch [91/300] Loss_D: 0.2397 Loss_G: 5.9904\n"
     ]
    },
    {
     "name": "stderr",
     "output_type": "stream",
     "text": [
      "100%|██████████| 62/62 [00:04<00:00, 15.40it/s]\n"
     ]
    },
    {
     "name": "stdout",
     "output_type": "stream",
     "text": [
      "Saved image: generated_images3/fake_samples_epoch_92.png\n",
      "Epoch [92/300] Loss_D: 0.0765 Loss_G: 5.5942\n"
     ]
    },
    {
     "name": "stderr",
     "output_type": "stream",
     "text": [
      "100%|██████████| 62/62 [00:03<00:00, 15.80it/s]\n"
     ]
    },
    {
     "name": "stdout",
     "output_type": "stream",
     "text": [
      "Saved image: generated_images3/fake_samples_epoch_93.png\n",
      "Epoch [93/300] Loss_D: 0.0257 Loss_G: 5.7790\n"
     ]
    },
    {
     "name": "stderr",
     "output_type": "stream",
     "text": [
      "100%|██████████| 62/62 [00:03<00:00, 15.79it/s]\n"
     ]
    },
    {
     "name": "stdout",
     "output_type": "stream",
     "text": [
      "Saved image: generated_images3/fake_samples_epoch_94.png\n",
      "Epoch [94/300] Loss_D: 0.9839 Loss_G: 6.0418\n"
     ]
    },
    {
     "name": "stderr",
     "output_type": "stream",
     "text": [
      "100%|██████████| 62/62 [00:02<00:00, 23.38it/s]\n"
     ]
    },
    {
     "name": "stdout",
     "output_type": "stream",
     "text": [
      "Saved image: generated_images3/fake_samples_epoch_95.png\n",
      "Epoch [95/300] Loss_D: 0.2543 Loss_G: 2.7409\n"
     ]
    },
    {
     "name": "stderr",
     "output_type": "stream",
     "text": [
      "100%|██████████| 62/62 [00:03<00:00, 16.21it/s]\n"
     ]
    },
    {
     "name": "stdout",
     "output_type": "stream",
     "text": [
      "Saved image: generated_images3/fake_samples_epoch_96.png\n",
      "Epoch [96/300] Loss_D: 0.0682 Loss_G: 5.2120\n"
     ]
    },
    {
     "name": "stderr",
     "output_type": "stream",
     "text": [
      "100%|██████████| 62/62 [00:03<00:00, 16.66it/s]\n"
     ]
    },
    {
     "name": "stdout",
     "output_type": "stream",
     "text": [
      "Saved image: generated_images3/fake_samples_epoch_97.png\n",
      "Epoch [97/300] Loss_D: 0.1618 Loss_G: 4.7044\n"
     ]
    },
    {
     "name": "stderr",
     "output_type": "stream",
     "text": [
      "100%|██████████| 62/62 [00:03<00:00, 15.97it/s]\n"
     ]
    },
    {
     "name": "stdout",
     "output_type": "stream",
     "text": [
      "Saved image: generated_images3/fake_samples_epoch_98.png\n",
      "Epoch [98/300] Loss_D: 0.0449 Loss_G: 5.4367\n"
     ]
    },
    {
     "name": "stderr",
     "output_type": "stream",
     "text": [
      "100%|██████████| 62/62 [00:03<00:00, 16.41it/s]\n"
     ]
    },
    {
     "name": "stdout",
     "output_type": "stream",
     "text": [
      "Saved image: generated_images3/fake_samples_epoch_99.png\n",
      "Epoch [99/300] Loss_D: 0.0606 Loss_G: 5.0505\n"
     ]
    },
    {
     "name": "stderr",
     "output_type": "stream",
     "text": [
      "100%|██████████| 62/62 [00:04<00:00, 14.76it/s]\n"
     ]
    },
    {
     "name": "stdout",
     "output_type": "stream",
     "text": [
      "Saved image: generated_images3/fake_samples_epoch_100.png\n",
      "Epoch [100/300] Loss_D: 0.1191 Loss_G: 4.1083\n"
     ]
    },
    {
     "name": "stderr",
     "output_type": "stream",
     "text": [
      "100%|██████████| 62/62 [00:04<00:00, 14.60it/s]\n"
     ]
    },
    {
     "name": "stdout",
     "output_type": "stream",
     "text": [
      "Saved image: generated_images3/fake_samples_epoch_101.png\n",
      "Epoch [101/300] Loss_D: 0.0826 Loss_G: 5.2843\n"
     ]
    },
    {
     "name": "stderr",
     "output_type": "stream",
     "text": [
      "100%|██████████| 62/62 [00:03<00:00, 16.04it/s]\n"
     ]
    },
    {
     "name": "stdout",
     "output_type": "stream",
     "text": [
      "Saved image: generated_images3/fake_samples_epoch_102.png\n",
      "Epoch [102/300] Loss_D: 0.2285 Loss_G: 5.0780\n"
     ]
    },
    {
     "name": "stderr",
     "output_type": "stream",
     "text": [
      "100%|██████████| 62/62 [00:03<00:00, 16.43it/s]\n"
     ]
    },
    {
     "name": "stdout",
     "output_type": "stream",
     "text": [
      "Saved image: generated_images3/fake_samples_epoch_103.png\n",
      "Epoch [103/300] Loss_D: 0.1623 Loss_G: 4.8933\n"
     ]
    },
    {
     "name": "stderr",
     "output_type": "stream",
     "text": [
      "100%|██████████| 62/62 [00:03<00:00, 20.02it/s]\n"
     ]
    },
    {
     "name": "stdout",
     "output_type": "stream",
     "text": [
      "Saved image: generated_images3/fake_samples_epoch_104.png\n",
      "Epoch [104/300] Loss_D: 0.1212 Loss_G: 4.1604\n"
     ]
    },
    {
     "name": "stderr",
     "output_type": "stream",
     "text": [
      "100%|██████████| 62/62 [00:04<00:00, 15.35it/s]\n"
     ]
    },
    {
     "name": "stdout",
     "output_type": "stream",
     "text": [
      "Saved image: generated_images3/fake_samples_epoch_105.png\n",
      "Epoch [105/300] Loss_D: 0.0492 Loss_G: 5.1215\n"
     ]
    },
    {
     "name": "stderr",
     "output_type": "stream",
     "text": [
      "100%|██████████| 62/62 [00:03<00:00, 16.33it/s]\n"
     ]
    },
    {
     "name": "stdout",
     "output_type": "stream",
     "text": [
      "Saved image: generated_images3/fake_samples_epoch_106.png\n",
      "Epoch [106/300] Loss_D: 0.1047 Loss_G: 6.9661\n"
     ]
    },
    {
     "name": "stderr",
     "output_type": "stream",
     "text": [
      "100%|██████████| 62/62 [00:03<00:00, 16.23it/s]\n"
     ]
    },
    {
     "name": "stdout",
     "output_type": "stream",
     "text": [
      "Saved image: generated_images3/fake_samples_epoch_107.png\n",
      "Epoch [107/300] Loss_D: 0.0750 Loss_G: 5.5039\n"
     ]
    },
    {
     "name": "stderr",
     "output_type": "stream",
     "text": [
      "100%|██████████| 62/62 [00:03<00:00, 15.99it/s]\n"
     ]
    },
    {
     "name": "stdout",
     "output_type": "stream",
     "text": [
      "Saved image: generated_images3/fake_samples_epoch_108.png\n",
      "Epoch [108/300] Loss_D: 0.5859 Loss_G: 13.2440\n"
     ]
    },
    {
     "name": "stderr",
     "output_type": "stream",
     "text": [
      "100%|██████████| 62/62 [00:03<00:00, 15.91it/s]\n"
     ]
    },
    {
     "name": "stdout",
     "output_type": "stream",
     "text": [
      "Saved image: generated_images3/fake_samples_epoch_109.png\n",
      "Epoch [109/300] Loss_D: 0.0298 Loss_G: 5.9842\n"
     ]
    },
    {
     "name": "stderr",
     "output_type": "stream",
     "text": [
      "100%|██████████| 62/62 [00:04<00:00, 15.02it/s]\n"
     ]
    },
    {
     "name": "stdout",
     "output_type": "stream",
     "text": [
      "Saved image: generated_images3/fake_samples_epoch_110.png\n",
      "Epoch [110/300] Loss_D: 0.0569 Loss_G: 6.0367\n"
     ]
    },
    {
     "name": "stderr",
     "output_type": "stream",
     "text": [
      "100%|██████████| 62/62 [00:03<00:00, 15.63it/s]\n"
     ]
    },
    {
     "name": "stdout",
     "output_type": "stream",
     "text": [
      "Saved image: generated_images3/fake_samples_epoch_111.png\n",
      "Epoch [111/300] Loss_D: 0.0599 Loss_G: 5.6540\n"
     ]
    },
    {
     "name": "stderr",
     "output_type": "stream",
     "text": [
      "100%|██████████| 62/62 [00:03<00:00, 15.83it/s]\n"
     ]
    },
    {
     "name": "stdout",
     "output_type": "stream",
     "text": [
      "Saved image: generated_images3/fake_samples_epoch_112.png\n",
      "Epoch [112/300] Loss_D: 0.1921 Loss_G: 3.1065\n"
     ]
    },
    {
     "name": "stderr",
     "output_type": "stream",
     "text": [
      "100%|██████████| 62/62 [00:03<00:00, 15.67it/s]\n"
     ]
    },
    {
     "name": "stdout",
     "output_type": "stream",
     "text": [
      "Saved image: generated_images3/fake_samples_epoch_113.png\n",
      "Epoch [113/300] Loss_D: 0.0593 Loss_G: 5.5171\n"
     ]
    },
    {
     "name": "stderr",
     "output_type": "stream",
     "text": [
      "100%|██████████| 62/62 [00:03<00:00, 16.75it/s]\n"
     ]
    },
    {
     "name": "stdout",
     "output_type": "stream",
     "text": [
      "Saved image: generated_images3/fake_samples_epoch_114.png\n",
      "Epoch [114/300] Loss_D: 0.0945 Loss_G: 5.6695\n"
     ]
    },
    {
     "name": "stderr",
     "output_type": "stream",
     "text": [
      "100%|██████████| 62/62 [00:03<00:00, 16.86it/s]\n"
     ]
    },
    {
     "name": "stdout",
     "output_type": "stream",
     "text": [
      "Saved image: generated_images3/fake_samples_epoch_115.png\n",
      "Epoch [115/300] Loss_D: 0.0259 Loss_G: 5.5331\n"
     ]
    },
    {
     "name": "stderr",
     "output_type": "stream",
     "text": [
      "100%|██████████| 62/62 [00:02<00:00, 24.94it/s] \n"
     ]
    },
    {
     "name": "stdout",
     "output_type": "stream",
     "text": [
      "Saved image: generated_images3/fake_samples_epoch_116.png\n",
      "Epoch [116/300] Loss_D: 0.0523 Loss_G: 5.3850\n"
     ]
    },
    {
     "name": "stderr",
     "output_type": "stream",
     "text": [
      "100%|██████████| 62/62 [00:03<00:00, 15.96it/s]\n"
     ]
    },
    {
     "name": "stdout",
     "output_type": "stream",
     "text": [
      "Saved image: generated_images3/fake_samples_epoch_117.png\n",
      "Epoch [117/300] Loss_D: 0.0658 Loss_G: 5.0311\n"
     ]
    },
    {
     "name": "stderr",
     "output_type": "stream",
     "text": [
      "100%|██████████| 62/62 [00:03<00:00, 15.69it/s]\n"
     ]
    },
    {
     "name": "stdout",
     "output_type": "stream",
     "text": [
      "Saved image: generated_images3/fake_samples_epoch_118.png\n",
      "Epoch [118/300] Loss_D: 2.2928 Loss_G: 0.7558\n"
     ]
    },
    {
     "name": "stderr",
     "output_type": "stream",
     "text": [
      "100%|██████████| 62/62 [00:03<00:00, 15.57it/s]\n"
     ]
    },
    {
     "name": "stdout",
     "output_type": "stream",
     "text": [
      "Saved image: generated_images3/fake_samples_epoch_119.png\n",
      "Epoch [119/300] Loss_D: 0.2643 Loss_G: 5.0111\n"
     ]
    },
    {
     "name": "stderr",
     "output_type": "stream",
     "text": [
      "100%|██████████| 62/62 [00:03<00:00, 15.80it/s]\n"
     ]
    },
    {
     "name": "stdout",
     "output_type": "stream",
     "text": [
      "Saved image: generated_images3/fake_samples_epoch_120.png\n",
      "Epoch [120/300] Loss_D: 0.0444 Loss_G: 5.7947\n"
     ]
    },
    {
     "name": "stderr",
     "output_type": "stream",
     "text": [
      "100%|██████████| 62/62 [00:03<00:00, 16.02it/s]\n"
     ]
    },
    {
     "name": "stdout",
     "output_type": "stream",
     "text": [
      "Saved image: generated_images3/fake_samples_epoch_121.png\n",
      "Epoch [121/300] Loss_D: 0.2074 Loss_G: 3.2613\n"
     ]
    },
    {
     "name": "stderr",
     "output_type": "stream",
     "text": [
      "100%|██████████| 62/62 [00:03<00:00, 16.07it/s]\n"
     ]
    },
    {
     "name": "stdout",
     "output_type": "stream",
     "text": [
      "Saved image: generated_images3/fake_samples_epoch_122.png\n",
      "Epoch [122/300] Loss_D: 0.0784 Loss_G: 5.0091\n"
     ]
    },
    {
     "name": "stderr",
     "output_type": "stream",
     "text": [
      "100%|██████████| 62/62 [00:03<00:00, 15.92it/s]\n"
     ]
    },
    {
     "name": "stdout",
     "output_type": "stream",
     "text": [
      "Saved image: generated_images3/fake_samples_epoch_123.png\n",
      "Epoch [123/300] Loss_D: 0.0482 Loss_G: 5.9191\n"
     ]
    },
    {
     "name": "stderr",
     "output_type": "stream",
     "text": [
      "100%|██████████| 62/62 [00:02<00:00, 24.67it/s]\n"
     ]
    },
    {
     "name": "stdout",
     "output_type": "stream",
     "text": [
      "Saved image: generated_images3/fake_samples_epoch_124.png\n",
      "Epoch [124/300] Loss_D: 0.0445 Loss_G: 5.3533\n"
     ]
    },
    {
     "name": "stderr",
     "output_type": "stream",
     "text": [
      "100%|██████████| 62/62 [00:03<00:00, 16.13it/s]\n"
     ]
    },
    {
     "name": "stdout",
     "output_type": "stream",
     "text": [
      "Saved image: generated_images3/fake_samples_epoch_125.png\n",
      "Epoch [125/300] Loss_D: 0.0982 Loss_G: 4.7027\n"
     ]
    },
    {
     "name": "stderr",
     "output_type": "stream",
     "text": [
      "100%|██████████| 62/62 [00:03<00:00, 16.07it/s]\n"
     ]
    },
    {
     "name": "stdout",
     "output_type": "stream",
     "text": [
      "Saved image: generated_images3/fake_samples_epoch_126.png\n",
      "Epoch [126/300] Loss_D: 0.2227 Loss_G: 5.5245\n"
     ]
    },
    {
     "name": "stderr",
     "output_type": "stream",
     "text": [
      "100%|██████████| 62/62 [00:03<00:00, 15.82it/s]\n"
     ]
    },
    {
     "name": "stdout",
     "output_type": "stream",
     "text": [
      "Saved image: generated_images3/fake_samples_epoch_127.png\n",
      "Epoch [127/300] Loss_D: 0.0240 Loss_G: 6.9571\n"
     ]
    },
    {
     "name": "stderr",
     "output_type": "stream",
     "text": [
      "100%|██████████| 62/62 [00:03<00:00, 15.92it/s]\n"
     ]
    },
    {
     "name": "stdout",
     "output_type": "stream",
     "text": [
      "Saved image: generated_images3/fake_samples_epoch_128.png\n",
      "Epoch [128/300] Loss_D: 0.0533 Loss_G: 5.2587\n"
     ]
    },
    {
     "name": "stderr",
     "output_type": "stream",
     "text": [
      "100%|██████████| 62/62 [00:03<00:00, 15.86it/s]\n"
     ]
    },
    {
     "name": "stdout",
     "output_type": "stream",
     "text": [
      "Saved image: generated_images3/fake_samples_epoch_129.png\n",
      "Epoch [129/300] Loss_D: 1.0570 Loss_G: 3.0113\n"
     ]
    },
    {
     "name": "stderr",
     "output_type": "stream",
     "text": [
      "100%|██████████| 62/62 [00:03<00:00, 15.99it/s]\n"
     ]
    },
    {
     "name": "stdout",
     "output_type": "stream",
     "text": [
      "Saved image: generated_images3/fake_samples_epoch_130.png\n",
      "Epoch [130/300] Loss_D: 0.2781 Loss_G: 3.8924\n"
     ]
    },
    {
     "name": "stderr",
     "output_type": "stream",
     "text": [
      "100%|██████████| 62/62 [00:03<00:00, 15.92it/s]\n"
     ]
    },
    {
     "name": "stdout",
     "output_type": "stream",
     "text": [
      "Saved image: generated_images3/fake_samples_epoch_131.png\n",
      "Epoch [131/300] Loss_D: 0.0398 Loss_G: 5.6370\n"
     ]
    },
    {
     "name": "stderr",
     "output_type": "stream",
     "text": [
      "100%|██████████| 62/62 [00:02<00:00, 23.43it/s]\n"
     ]
    },
    {
     "name": "stdout",
     "output_type": "stream",
     "text": [
      "Saved image: generated_images3/fake_samples_epoch_132.png\n",
      "Epoch [132/300] Loss_D: 0.0456 Loss_G: 5.2700\n"
     ]
    },
    {
     "name": "stderr",
     "output_type": "stream",
     "text": [
      "100%|██████████| 62/62 [00:03<00:00, 15.69it/s]\n"
     ]
    },
    {
     "name": "stdout",
     "output_type": "stream",
     "text": [
      "Saved image: generated_images3/fake_samples_epoch_133.png\n",
      "Epoch [133/300] Loss_D: 0.1220 Loss_G: 6.4458\n"
     ]
    },
    {
     "name": "stderr",
     "output_type": "stream",
     "text": [
      "100%|██████████| 62/62 [00:03<00:00, 16.00it/s]\n"
     ]
    },
    {
     "name": "stdout",
     "output_type": "stream",
     "text": [
      "Saved image: generated_images3/fake_samples_epoch_134.png\n",
      "Epoch [134/300] Loss_D: 0.0857 Loss_G: 4.1554\n"
     ]
    },
    {
     "name": "stderr",
     "output_type": "stream",
     "text": [
      "100%|██████████| 62/62 [00:03<00:00, 16.07it/s]\n"
     ]
    },
    {
     "name": "stdout",
     "output_type": "stream",
     "text": [
      "Saved image: generated_images3/fake_samples_epoch_135.png\n",
      "Epoch [135/300] Loss_D: 0.0111 Loss_G: 5.5641\n"
     ]
    },
    {
     "name": "stderr",
     "output_type": "stream",
     "text": [
      "100%|██████████| 62/62 [00:03<00:00, 16.03it/s]\n"
     ]
    },
    {
     "name": "stdout",
     "output_type": "stream",
     "text": [
      "Saved image: generated_images3/fake_samples_epoch_136.png\n",
      "Epoch [136/300] Loss_D: 0.0771 Loss_G: 3.8296\n"
     ]
    },
    {
     "name": "stderr",
     "output_type": "stream",
     "text": [
      "100%|██████████| 62/62 [00:03<00:00, 15.66it/s]\n"
     ]
    },
    {
     "name": "stdout",
     "output_type": "stream",
     "text": [
      "Saved image: generated_images3/fake_samples_epoch_137.png\n",
      "Epoch [137/300] Loss_D: 0.0790 Loss_G: 4.2627\n"
     ]
    },
    {
     "name": "stderr",
     "output_type": "stream",
     "text": [
      "100%|██████████| 62/62 [00:03<00:00, 16.04it/s]\n"
     ]
    },
    {
     "name": "stdout",
     "output_type": "stream",
     "text": [
      "Saved image: generated_images3/fake_samples_epoch_138.png\n",
      "Epoch [138/300] Loss_D: 0.0511 Loss_G: 5.2748\n"
     ]
    },
    {
     "name": "stderr",
     "output_type": "stream",
     "text": [
      "100%|██████████| 62/62 [00:03<00:00, 15.75it/s]\n"
     ]
    },
    {
     "name": "stdout",
     "output_type": "stream",
     "text": [
      "Saved image: generated_images3/fake_samples_epoch_139.png\n",
      "Epoch [139/300] Loss_D: 0.5569 Loss_G: 2.7424\n"
     ]
    },
    {
     "name": "stderr",
     "output_type": "stream",
     "text": [
      "100%|██████████| 62/62 [00:02<00:00, 22.47it/s]\n"
     ]
    },
    {
     "name": "stdout",
     "output_type": "stream",
     "text": [
      "Saved image: generated_images3/fake_samples_epoch_140.png\n",
      "Epoch [140/300] Loss_D: 0.0927 Loss_G: 4.4786\n"
     ]
    },
    {
     "name": "stderr",
     "output_type": "stream",
     "text": [
      "100%|██████████| 62/62 [00:04<00:00, 15.29it/s]\n"
     ]
    },
    {
     "name": "stdout",
     "output_type": "stream",
     "text": [
      "Saved image: generated_images3/fake_samples_epoch_141.png\n",
      "Epoch [141/300] Loss_D: 0.1044 Loss_G: 4.4401\n"
     ]
    },
    {
     "name": "stderr",
     "output_type": "stream",
     "text": [
      "100%|██████████| 62/62 [00:03<00:00, 15.61it/s]\n"
     ]
    },
    {
     "name": "stdout",
     "output_type": "stream",
     "text": [
      "Saved image: generated_images3/fake_samples_epoch_142.png\n",
      "Epoch [142/300] Loss_D: 0.1288 Loss_G: 7.4514\n"
     ]
    },
    {
     "name": "stderr",
     "output_type": "stream",
     "text": [
      "100%|██████████| 62/62 [00:03<00:00, 15.75it/s]\n"
     ]
    },
    {
     "name": "stdout",
     "output_type": "stream",
     "text": [
      "Saved image: generated_images3/fake_samples_epoch_143.png\n",
      "Epoch [143/300] Loss_D: 0.0746 Loss_G: 5.1471\n"
     ]
    },
    {
     "name": "stderr",
     "output_type": "stream",
     "text": [
      "100%|██████████| 62/62 [00:04<00:00, 15.39it/s]\n"
     ]
    },
    {
     "name": "stdout",
     "output_type": "stream",
     "text": [
      "Saved image: generated_images3/fake_samples_epoch_144.png\n",
      "Epoch [144/300] Loss_D: 0.0497 Loss_G: 5.1906\n"
     ]
    },
    {
     "name": "stderr",
     "output_type": "stream",
     "text": [
      "100%|██████████| 62/62 [00:03<00:00, 15.80it/s]\n"
     ]
    },
    {
     "name": "stdout",
     "output_type": "stream",
     "text": [
      "Saved image: generated_images3/fake_samples_epoch_145.png\n",
      "Epoch [145/300] Loss_D: 0.0677 Loss_G: 4.6572\n"
     ]
    },
    {
     "name": "stderr",
     "output_type": "stream",
     "text": [
      "100%|██████████| 62/62 [00:03<00:00, 15.70it/s]\n"
     ]
    },
    {
     "name": "stdout",
     "output_type": "stream",
     "text": [
      "Saved image: generated_images3/fake_samples_epoch_146.png\n",
      "Epoch [146/300] Loss_D: 0.0418 Loss_G: 5.9759\n"
     ]
    },
    {
     "name": "stderr",
     "output_type": "stream",
     "text": [
      "100%|██████████| 62/62 [00:03<00:00, 15.85it/s]\n"
     ]
    },
    {
     "name": "stdout",
     "output_type": "stream",
     "text": [
      "Saved image: generated_images3/fake_samples_epoch_147.png\n",
      "Epoch [147/300] Loss_D: 0.0491 Loss_G: 5.9593\n"
     ]
    },
    {
     "name": "stderr",
     "output_type": "stream",
     "text": [
      "100%|██████████| 62/62 [00:02<00:00, 23.19it/s]\n"
     ]
    },
    {
     "name": "stdout",
     "output_type": "stream",
     "text": [
      "Saved image: generated_images3/fake_samples_epoch_148.png\n",
      "Epoch [148/300] Loss_D: 0.5671 Loss_G: 9.5938\n"
     ]
    },
    {
     "name": "stderr",
     "output_type": "stream",
     "text": [
      "100%|██████████| 62/62 [00:03<00:00, 15.89it/s]\n"
     ]
    },
    {
     "name": "stdout",
     "output_type": "stream",
     "text": [
      "Saved image: generated_images3/fake_samples_epoch_149.png\n",
      "Epoch [149/300] Loss_D: 0.0367 Loss_G: 5.7977\n"
     ]
    },
    {
     "name": "stderr",
     "output_type": "stream",
     "text": [
      "100%|██████████| 62/62 [00:03<00:00, 16.28it/s]\n"
     ]
    },
    {
     "name": "stdout",
     "output_type": "stream",
     "text": [
      "Saved image: generated_images3/fake_samples_epoch_150.png\n",
      "Epoch [150/300] Loss_D: 0.0446 Loss_G: 6.2665\n"
     ]
    },
    {
     "name": "stderr",
     "output_type": "stream",
     "text": [
      "100%|██████████| 62/62 [00:03<00:00, 16.01it/s]\n"
     ]
    },
    {
     "name": "stdout",
     "output_type": "stream",
     "text": [
      "Saved image: generated_images3/fake_samples_epoch_151.png\n",
      "Epoch [151/300] Loss_D: 0.0702 Loss_G: 6.0735\n"
     ]
    },
    {
     "name": "stderr",
     "output_type": "stream",
     "text": [
      "100%|██████████| 62/62 [00:03<00:00, 15.86it/s]\n"
     ]
    },
    {
     "name": "stdout",
     "output_type": "stream",
     "text": [
      "Saved image: generated_images3/fake_samples_epoch_152.png\n",
      "Epoch [152/300] Loss_D: 0.1725 Loss_G: 3.1966\n"
     ]
    },
    {
     "name": "stderr",
     "output_type": "stream",
     "text": [
      "100%|██████████| 62/62 [00:03<00:00, 15.86it/s]\n"
     ]
    },
    {
     "name": "stdout",
     "output_type": "stream",
     "text": [
      "Saved image: generated_images3/fake_samples_epoch_153.png\n",
      "Epoch [153/300] Loss_D: 0.0863 Loss_G: 4.7722\n"
     ]
    },
    {
     "name": "stderr",
     "output_type": "stream",
     "text": [
      "100%|██████████| 62/62 [00:04<00:00, 14.68it/s]\n"
     ]
    },
    {
     "name": "stdout",
     "output_type": "stream",
     "text": [
      "Saved image: generated_images3/fake_samples_epoch_154.png\n",
      "Epoch [154/300] Loss_D: 0.0296 Loss_G: 6.2404\n"
     ]
    },
    {
     "name": "stderr",
     "output_type": "stream",
     "text": [
      "100%|██████████| 62/62 [00:04<00:00, 14.89it/s]\n"
     ]
    },
    {
     "name": "stdout",
     "output_type": "stream",
     "text": [
      "Saved image: generated_images3/fake_samples_epoch_155.png\n",
      "Epoch [155/300] Loss_D: 0.0198 Loss_G: 5.8353\n"
     ]
    },
    {
     "name": "stderr",
     "output_type": "stream",
     "text": [
      "100%|██████████| 62/62 [00:02<00:00, 23.87it/s]\n"
     ]
    },
    {
     "name": "stdout",
     "output_type": "stream",
     "text": [
      "Saved image: generated_images3/fake_samples_epoch_156.png\n",
      "Epoch [156/300] Loss_D: 0.0615 Loss_G: 4.9243\n"
     ]
    },
    {
     "name": "stderr",
     "output_type": "stream",
     "text": [
      "100%|██████████| 62/62 [00:03<00:00, 16.11it/s]\n"
     ]
    },
    {
     "name": "stdout",
     "output_type": "stream",
     "text": [
      "Saved image: generated_images3/fake_samples_epoch_157.png\n",
      "Epoch [157/300] Loss_D: 0.0876 Loss_G: 5.1179\n"
     ]
    },
    {
     "name": "stderr",
     "output_type": "stream",
     "text": [
      "100%|██████████| 62/62 [00:03<00:00, 15.56it/s]\n"
     ]
    },
    {
     "name": "stdout",
     "output_type": "stream",
     "text": [
      "Saved image: generated_images3/fake_samples_epoch_158.png\n",
      "Epoch [158/300] Loss_D: 0.2694 Loss_G: 1.6922\n"
     ]
    },
    {
     "name": "stderr",
     "output_type": "stream",
     "text": [
      "100%|██████████| 62/62 [00:03<00:00, 15.97it/s]\n"
     ]
    },
    {
     "name": "stdout",
     "output_type": "stream",
     "text": [
      "Saved image: generated_images3/fake_samples_epoch_159.png\n",
      "Epoch [159/300] Loss_D: 0.1220 Loss_G: 5.4153\n"
     ]
    },
    {
     "name": "stderr",
     "output_type": "stream",
     "text": [
      "100%|██████████| 62/62 [00:03<00:00, 15.68it/s]\n"
     ]
    },
    {
     "name": "stdout",
     "output_type": "stream",
     "text": [
      "Saved image: generated_images3/fake_samples_epoch_160.png\n",
      "Epoch [160/300] Loss_D: 0.4227 Loss_G: 1.4453\n"
     ]
    },
    {
     "name": "stderr",
     "output_type": "stream",
     "text": [
      "100%|██████████| 62/62 [00:04<00:00, 15.35it/s]\n"
     ]
    },
    {
     "name": "stdout",
     "output_type": "stream",
     "text": [
      "Saved image: generated_images3/fake_samples_epoch_161.png\n",
      "Epoch [161/300] Loss_D: 0.0696 Loss_G: 6.0554\n"
     ]
    },
    {
     "name": "stderr",
     "output_type": "stream",
     "text": [
      "100%|██████████| 62/62 [00:03<00:00, 16.17it/s]\n"
     ]
    },
    {
     "name": "stdout",
     "output_type": "stream",
     "text": [
      "Saved image: generated_images3/fake_samples_epoch_162.png\n",
      "Epoch [162/300] Loss_D: 0.0518 Loss_G: 6.0844\n"
     ]
    },
    {
     "name": "stderr",
     "output_type": "stream",
     "text": [
      "100%|██████████| 62/62 [00:03<00:00, 16.18it/s]\n"
     ]
    },
    {
     "name": "stdout",
     "output_type": "stream",
     "text": [
      "Saved image: generated_images3/fake_samples_epoch_163.png\n",
      "Epoch [163/300] Loss_D: 0.2204 Loss_G: 1.2273\n"
     ]
    },
    {
     "name": "stderr",
     "output_type": "stream",
     "text": [
      "100%|██████████| 62/62 [00:02<00:00, 22.23it/s]\n"
     ]
    },
    {
     "name": "stdout",
     "output_type": "stream",
     "text": [
      "Saved image: generated_images3/fake_samples_epoch_164.png\n",
      "Epoch [164/300] Loss_D: 0.0331 Loss_G: 5.4964\n"
     ]
    },
    {
     "name": "stderr",
     "output_type": "stream",
     "text": [
      "100%|██████████| 62/62 [00:03<00:00, 16.03it/s]\n"
     ]
    },
    {
     "name": "stdout",
     "output_type": "stream",
     "text": [
      "Saved image: generated_images3/fake_samples_epoch_165.png\n",
      "Epoch [165/300] Loss_D: 0.0704 Loss_G: 4.7680\n"
     ]
    },
    {
     "name": "stderr",
     "output_type": "stream",
     "text": [
      "100%|██████████| 62/62 [00:03<00:00, 15.51it/s]\n"
     ]
    },
    {
     "name": "stdout",
     "output_type": "stream",
     "text": [
      "Saved image: generated_images3/fake_samples_epoch_166.png\n",
      "Epoch [166/300] Loss_D: 0.0167 Loss_G: 5.7135\n"
     ]
    },
    {
     "name": "stderr",
     "output_type": "stream",
     "text": [
      "100%|██████████| 62/62 [00:03<00:00, 15.88it/s]\n"
     ]
    },
    {
     "name": "stdout",
     "output_type": "stream",
     "text": [
      "Saved image: generated_images3/fake_samples_epoch_167.png\n",
      "Epoch [167/300] Loss_D: 0.0353 Loss_G: 6.1046\n"
     ]
    },
    {
     "name": "stderr",
     "output_type": "stream",
     "text": [
      "100%|██████████| 62/62 [00:03<00:00, 15.84it/s]\n"
     ]
    },
    {
     "name": "stdout",
     "output_type": "stream",
     "text": [
      "Saved image: generated_images3/fake_samples_epoch_168.png\n",
      "Epoch [168/300] Loss_D: 0.0194 Loss_G: 6.7116\n"
     ]
    },
    {
     "name": "stderr",
     "output_type": "stream",
     "text": [
      "100%|██████████| 62/62 [00:03<00:00, 15.67it/s]\n"
     ]
    },
    {
     "name": "stdout",
     "output_type": "stream",
     "text": [
      "Saved image: generated_images3/fake_samples_epoch_169.png\n",
      "Epoch [169/300] Loss_D: 0.1227 Loss_G: 5.8979\n"
     ]
    },
    {
     "name": "stderr",
     "output_type": "stream",
     "text": [
      "100%|██████████| 62/62 [00:03<00:00, 16.06it/s]\n"
     ]
    },
    {
     "name": "stdout",
     "output_type": "stream",
     "text": [
      "Saved image: generated_images3/fake_samples_epoch_170.png\n",
      "Epoch [170/300] Loss_D: 0.2747 Loss_G: 1.8462\n"
     ]
    },
    {
     "name": "stderr",
     "output_type": "stream",
     "text": [
      "100%|██████████| 62/62 [00:03<00:00, 15.63it/s]\n"
     ]
    },
    {
     "name": "stdout",
     "output_type": "stream",
     "text": [
      "Saved image: generated_images3/fake_samples_epoch_171.png\n",
      "Epoch [171/300] Loss_D: 0.0642 Loss_G: 4.3242\n"
     ]
    },
    {
     "name": "stderr",
     "output_type": "stream",
     "text": [
      "100%|██████████| 62/62 [00:02<00:00, 22.17it/s]\n"
     ]
    },
    {
     "name": "stdout",
     "output_type": "stream",
     "text": [
      "Saved image: generated_images3/fake_samples_epoch_172.png\n",
      "Epoch [172/300] Loss_D: 0.1245 Loss_G: 4.5246\n"
     ]
    },
    {
     "name": "stderr",
     "output_type": "stream",
     "text": [
      "100%|██████████| 62/62 [00:03<00:00, 15.62it/s]\n"
     ]
    },
    {
     "name": "stdout",
     "output_type": "stream",
     "text": [
      "Saved image: generated_images3/fake_samples_epoch_173.png\n",
      "Epoch [173/300] Loss_D: 0.0105 Loss_G: 6.1124\n"
     ]
    },
    {
     "name": "stderr",
     "output_type": "stream",
     "text": [
      "100%|██████████| 62/62 [00:03<00:00, 15.85it/s]\n"
     ]
    },
    {
     "name": "stdout",
     "output_type": "stream",
     "text": [
      "Saved image: generated_images3/fake_samples_epoch_174.png\n",
      "Epoch [174/300] Loss_D: 0.0718 Loss_G: 4.8137\n"
     ]
    },
    {
     "name": "stderr",
     "output_type": "stream",
     "text": [
      "100%|██████████| 62/62 [00:03<00:00, 15.72it/s]\n"
     ]
    },
    {
     "name": "stdout",
     "output_type": "stream",
     "text": [
      "Saved image: generated_images3/fake_samples_epoch_175.png\n",
      "Epoch [175/300] Loss_D: 0.0192 Loss_G: 7.7410\n"
     ]
    },
    {
     "name": "stderr",
     "output_type": "stream",
     "text": [
      "100%|██████████| 62/62 [00:03<00:00, 15.87it/s]\n"
     ]
    },
    {
     "name": "stdout",
     "output_type": "stream",
     "text": [
      "Saved image: generated_images3/fake_samples_epoch_176.png\n",
      "Epoch [176/300] Loss_D: 0.0355 Loss_G: 6.5970\n"
     ]
    },
    {
     "name": "stderr",
     "output_type": "stream",
     "text": [
      "100%|██████████| 62/62 [00:04<00:00, 15.48it/s]\n"
     ]
    },
    {
     "name": "stdout",
     "output_type": "stream",
     "text": [
      "Saved image: generated_images3/fake_samples_epoch_177.png\n",
      "Epoch [177/300] Loss_D: 0.0354 Loss_G: 5.6137\n"
     ]
    },
    {
     "name": "stderr",
     "output_type": "stream",
     "text": [
      "100%|██████████| 62/62 [00:03<00:00, 15.58it/s]\n"
     ]
    },
    {
     "name": "stdout",
     "output_type": "stream",
     "text": [
      "Saved image: generated_images3/fake_samples_epoch_178.png\n",
      "Epoch [178/300] Loss_D: 0.0586 Loss_G: 7.2413\n"
     ]
    },
    {
     "name": "stderr",
     "output_type": "stream",
     "text": [
      "100%|██████████| 62/62 [00:03<00:00, 15.59it/s]\n"
     ]
    },
    {
     "name": "stdout",
     "output_type": "stream",
     "text": [
      "Saved image: generated_images3/fake_samples_epoch_179.png\n",
      "Epoch [179/300] Loss_D: 0.0385 Loss_G: 6.0682\n"
     ]
    },
    {
     "name": "stderr",
     "output_type": "stream",
     "text": [
      "100%|██████████| 62/62 [00:02<00:00, 22.28it/s]\n"
     ]
    },
    {
     "name": "stdout",
     "output_type": "stream",
     "text": [
      "Saved image: generated_images3/fake_samples_epoch_180.png\n",
      "Epoch [180/300] Loss_D: 0.0267 Loss_G: 5.2355\n"
     ]
    },
    {
     "name": "stderr",
     "output_type": "stream",
     "text": [
      "100%|██████████| 62/62 [00:03<00:00, 16.10it/s]\n"
     ]
    },
    {
     "name": "stdout",
     "output_type": "stream",
     "text": [
      "Saved image: generated_images3/fake_samples_epoch_181.png\n",
      "Epoch [181/300] Loss_D: 0.0399 Loss_G: 5.1427\n"
     ]
    },
    {
     "name": "stderr",
     "output_type": "stream",
     "text": [
      "100%|██████████| 62/62 [00:03<00:00, 16.00it/s]\n"
     ]
    },
    {
     "name": "stdout",
     "output_type": "stream",
     "text": [
      "Saved image: generated_images3/fake_samples_epoch_182.png\n",
      "Epoch [182/300] Loss_D: 0.0129 Loss_G: 7.8858\n"
     ]
    },
    {
     "name": "stderr",
     "output_type": "stream",
     "text": [
      "100%|██████████| 62/62 [00:03<00:00, 15.86it/s]\n"
     ]
    },
    {
     "name": "stdout",
     "output_type": "stream",
     "text": [
      "Saved image: generated_images3/fake_samples_epoch_183.png\n",
      "Epoch [183/300] Loss_D: 0.0553 Loss_G: 7.6246\n"
     ]
    },
    {
     "name": "stderr",
     "output_type": "stream",
     "text": [
      "100%|██████████| 62/62 [00:03<00:00, 15.60it/s]\n"
     ]
    },
    {
     "name": "stdout",
     "output_type": "stream",
     "text": [
      "Saved image: generated_images3/fake_samples_epoch_184.png\n",
      "Epoch [184/300] Loss_D: 0.0206 Loss_G: 6.8948\n"
     ]
    },
    {
     "name": "stderr",
     "output_type": "stream",
     "text": [
      "100%|██████████| 62/62 [00:04<00:00, 15.46it/s]\n"
     ]
    },
    {
     "name": "stdout",
     "output_type": "stream",
     "text": [
      "Saved image: generated_images3/fake_samples_epoch_185.png\n",
      "Epoch [185/300] Loss_D: 0.1309 Loss_G: 4.0244\n"
     ]
    },
    {
     "name": "stderr",
     "output_type": "stream",
     "text": [
      "100%|██████████| 62/62 [00:03<00:00, 15.51it/s]\n"
     ]
    },
    {
     "name": "stdout",
     "output_type": "stream",
     "text": [
      "Saved image: generated_images3/fake_samples_epoch_186.png\n",
      "Epoch [186/300] Loss_D: 0.1149 Loss_G: 4.2683\n"
     ]
    },
    {
     "name": "stderr",
     "output_type": "stream",
     "text": [
      "100%|██████████| 62/62 [00:03<00:00, 15.76it/s]\n"
     ]
    },
    {
     "name": "stdout",
     "output_type": "stream",
     "text": [
      "Saved image: generated_images3/fake_samples_epoch_187.png\n",
      "Epoch [187/300] Loss_D: 0.2036 Loss_G: 4.2868\n"
     ]
    },
    {
     "name": "stderr",
     "output_type": "stream",
     "text": [
      "100%|██████████| 62/62 [00:03<00:00, 15.85it/s]\n"
     ]
    },
    {
     "name": "stdout",
     "output_type": "stream",
     "text": [
      "Saved image: generated_images3/fake_samples_epoch_188.png\n",
      "Epoch [188/300] Loss_D: 0.6719 Loss_G: 3.0844\n"
     ]
    },
    {
     "name": "stderr",
     "output_type": "stream",
     "text": [
      "100%|██████████| 62/62 [00:02<00:00, 23.02it/s]\n"
     ]
    },
    {
     "name": "stdout",
     "output_type": "stream",
     "text": [
      "Saved image: generated_images3/fake_samples_epoch_189.png\n",
      "Epoch [189/300] Loss_D: 0.0554 Loss_G: 6.3868\n"
     ]
    },
    {
     "name": "stderr",
     "output_type": "stream",
     "text": [
      "100%|██████████| 62/62 [00:03<00:00, 15.83it/s]\n"
     ]
    },
    {
     "name": "stdout",
     "output_type": "stream",
     "text": [
      "Saved image: generated_images3/fake_samples_epoch_190.png\n",
      "Epoch [190/300] Loss_D: 0.0232 Loss_G: 6.0005\n"
     ]
    },
    {
     "name": "stderr",
     "output_type": "stream",
     "text": [
      "100%|██████████| 62/62 [00:03<00:00, 15.73it/s]\n"
     ]
    },
    {
     "name": "stdout",
     "output_type": "stream",
     "text": [
      "Saved image: generated_images3/fake_samples_epoch_191.png\n",
      "Epoch [191/300] Loss_D: 0.0374 Loss_G: 6.4579\n"
     ]
    },
    {
     "name": "stderr",
     "output_type": "stream",
     "text": [
      "100%|██████████| 62/62 [00:03<00:00, 15.51it/s]\n"
     ]
    },
    {
     "name": "stdout",
     "output_type": "stream",
     "text": [
      "Saved image: generated_images3/fake_samples_epoch_192.png\n",
      "Epoch [192/300] Loss_D: 0.0232 Loss_G: 6.3155\n"
     ]
    },
    {
     "name": "stderr",
     "output_type": "stream",
     "text": [
      "100%|██████████| 62/62 [00:03<00:00, 16.00it/s]\n"
     ]
    },
    {
     "name": "stdout",
     "output_type": "stream",
     "text": [
      "Saved image: generated_images3/fake_samples_epoch_193.png\n",
      "Epoch [193/300] Loss_D: 0.1140 Loss_G: 8.1685\n"
     ]
    },
    {
     "name": "stderr",
     "output_type": "stream",
     "text": [
      "100%|██████████| 62/62 [00:03<00:00, 16.37it/s]\n"
     ]
    },
    {
     "name": "stdout",
     "output_type": "stream",
     "text": [
      "Saved image: generated_images3/fake_samples_epoch_194.png\n",
      "Epoch [194/300] Loss_D: 0.0417 Loss_G: 5.4605\n"
     ]
    },
    {
     "name": "stderr",
     "output_type": "stream",
     "text": [
      "100%|██████████| 62/62 [00:03<00:00, 15.66it/s]\n"
     ]
    },
    {
     "name": "stdout",
     "output_type": "stream",
     "text": [
      "Saved image: generated_images3/fake_samples_epoch_195.png\n",
      "Epoch [195/300] Loss_D: 0.1652 Loss_G: 7.7157\n"
     ]
    },
    {
     "name": "stderr",
     "output_type": "stream",
     "text": [
      "100%|██████████| 62/62 [00:03<00:00, 15.94it/s]\n"
     ]
    },
    {
     "name": "stdout",
     "output_type": "stream",
     "text": [
      "Saved image: generated_images3/fake_samples_epoch_196.png\n",
      "Epoch [196/300] Loss_D: 0.0227 Loss_G: 6.1039\n"
     ]
    },
    {
     "name": "stderr",
     "output_type": "stream",
     "text": [
      "100%|██████████| 62/62 [00:02<00:00, 22.50it/s]\n"
     ]
    },
    {
     "name": "stdout",
     "output_type": "stream",
     "text": [
      "Saved image: generated_images3/fake_samples_epoch_197.png\n",
      "Epoch [197/300] Loss_D: 0.0243 Loss_G: 5.8209\n"
     ]
    },
    {
     "name": "stderr",
     "output_type": "stream",
     "text": [
      "100%|██████████| 62/62 [00:03<00:00, 15.50it/s]\n"
     ]
    },
    {
     "name": "stdout",
     "output_type": "stream",
     "text": [
      "Saved image: generated_images3/fake_samples_epoch_198.png\n",
      "Epoch [198/300] Loss_D: 0.0527 Loss_G: 5.6270\n"
     ]
    },
    {
     "name": "stderr",
     "output_type": "stream",
     "text": [
      "100%|██████████| 62/62 [00:03<00:00, 15.58it/s]\n"
     ]
    },
    {
     "name": "stdout",
     "output_type": "stream",
     "text": [
      "Saved image: generated_images3/fake_samples_epoch_199.png\n",
      "Epoch [199/300] Loss_D: 0.0140 Loss_G: 5.9808\n"
     ]
    },
    {
     "name": "stderr",
     "output_type": "stream",
     "text": [
      "100%|██████████| 62/62 [00:03<00:00, 15.53it/s]\n"
     ]
    },
    {
     "name": "stdout",
     "output_type": "stream",
     "text": [
      "Saved image: generated_images3/fake_samples_epoch_200.png\n",
      "Epoch [200/300] Loss_D: 0.0180 Loss_G: 5.9980\n"
     ]
    },
    {
     "name": "stderr",
     "output_type": "stream",
     "text": [
      "100%|██████████| 62/62 [00:03<00:00, 15.65it/s]\n"
     ]
    },
    {
     "name": "stdout",
     "output_type": "stream",
     "text": [
      "Saved image: generated_images3/fake_samples_epoch_201.png\n",
      "Epoch [201/300] Loss_D: 0.0153 Loss_G: 6.1143\n"
     ]
    },
    {
     "name": "stderr",
     "output_type": "stream",
     "text": [
      "100%|██████████| 62/62 [00:03<00:00, 16.21it/s]\n"
     ]
    },
    {
     "name": "stdout",
     "output_type": "stream",
     "text": [
      "Saved image: generated_images3/fake_samples_epoch_202.png\n",
      "Epoch [202/300] Loss_D: 0.0395 Loss_G: 5.3213\n"
     ]
    },
    {
     "name": "stderr",
     "output_type": "stream",
     "text": [
      "100%|██████████| 62/62 [00:03<00:00, 15.93it/s]\n"
     ]
    },
    {
     "name": "stdout",
     "output_type": "stream",
     "text": [
      "Saved image: generated_images3/fake_samples_epoch_203.png\n",
      "Epoch [203/300] Loss_D: 0.0489 Loss_G: 7.4313\n"
     ]
    },
    {
     "name": "stderr",
     "output_type": "stream",
     "text": [
      "100%|██████████| 62/62 [00:03<00:00, 15.90it/s]\n"
     ]
    },
    {
     "name": "stdout",
     "output_type": "stream",
     "text": [
      "Saved image: generated_images3/fake_samples_epoch_204.png\n",
      "Epoch [204/300] Loss_D: 0.0190 Loss_G: 6.1295\n"
     ]
    },
    {
     "name": "stderr",
     "output_type": "stream",
     "text": [
      "100%|██████████| 62/62 [00:02<00:00, 23.24it/s]\n"
     ]
    },
    {
     "name": "stdout",
     "output_type": "stream",
     "text": [
      "Saved image: generated_images3/fake_samples_epoch_205.png\n",
      "Epoch [205/300] Loss_D: 0.0121 Loss_G: 7.0916\n"
     ]
    },
    {
     "name": "stderr",
     "output_type": "stream",
     "text": [
      "100%|██████████| 62/62 [00:03<00:00, 15.80it/s]\n"
     ]
    },
    {
     "name": "stdout",
     "output_type": "stream",
     "text": [
      "Saved image: generated_images3/fake_samples_epoch_206.png\n",
      "Epoch [206/300] Loss_D: 0.0038 Loss_G: 6.5664\n"
     ]
    },
    {
     "name": "stderr",
     "output_type": "stream",
     "text": [
      "100%|██████████| 62/62 [00:03<00:00, 16.34it/s]\n"
     ]
    },
    {
     "name": "stdout",
     "output_type": "stream",
     "text": [
      "Saved image: generated_images3/fake_samples_epoch_207.png\n",
      "Epoch [207/300] Loss_D: 0.0481 Loss_G: 7.7448\n"
     ]
    },
    {
     "name": "stderr",
     "output_type": "stream",
     "text": [
      "100%|██████████| 62/62 [00:03<00:00, 15.82it/s]\n"
     ]
    },
    {
     "name": "stdout",
     "output_type": "stream",
     "text": [
      "Saved image: generated_images3/fake_samples_epoch_208.png\n",
      "Epoch [208/300] Loss_D: 0.0065 Loss_G: 6.7618\n"
     ]
    },
    {
     "name": "stderr",
     "output_type": "stream",
     "text": [
      "100%|██████████| 62/62 [00:04<00:00, 15.49it/s]\n"
     ]
    },
    {
     "name": "stdout",
     "output_type": "stream",
     "text": [
      "Saved image: generated_images3/fake_samples_epoch_209.png\n",
      "Epoch [209/300] Loss_D: 0.0308 Loss_G: 7.7880\n"
     ]
    },
    {
     "name": "stderr",
     "output_type": "stream",
     "text": [
      "100%|██████████| 62/62 [00:03<00:00, 15.97it/s]\n"
     ]
    },
    {
     "name": "stdout",
     "output_type": "stream",
     "text": [
      "Saved image: generated_images3/fake_samples_epoch_210.png\n",
      "Epoch [210/300] Loss_D: 0.0131 Loss_G: 6.8127\n"
     ]
    },
    {
     "name": "stderr",
     "output_type": "stream",
     "text": [
      "100%|██████████| 62/62 [00:03<00:00, 15.60it/s]\n"
     ]
    },
    {
     "name": "stdout",
     "output_type": "stream",
     "text": [
      "Saved image: generated_images3/fake_samples_epoch_211.png\n",
      "Epoch [211/300] Loss_D: 0.0453 Loss_G: 5.2879\n"
     ]
    },
    {
     "name": "stderr",
     "output_type": "stream",
     "text": [
      "100%|██████████| 62/62 [00:03<00:00, 15.60it/s]\n"
     ]
    },
    {
     "name": "stdout",
     "output_type": "stream",
     "text": [
      "Saved image: generated_images3/fake_samples_epoch_212.png\n",
      "Epoch [212/300] Loss_D: 0.0430 Loss_G: 6.3755\n"
     ]
    },
    {
     "name": "stderr",
     "output_type": "stream",
     "text": [
      "100%|██████████| 62/62 [00:03<00:00, 15.92it/s]\n"
     ]
    },
    {
     "name": "stdout",
     "output_type": "stream",
     "text": [
      "Saved image: generated_images3/fake_samples_epoch_213.png\n",
      "Epoch [213/300] Loss_D: 0.2019 Loss_G: 5.1147\n"
     ]
    },
    {
     "name": "stderr",
     "output_type": "stream",
     "text": [
      "100%|██████████| 62/62 [00:03<00:00, 15.82it/s]\n"
     ]
    },
    {
     "name": "stdout",
     "output_type": "stream",
     "text": [
      "Saved image: generated_images3/fake_samples_epoch_214.png\n",
      "Epoch [214/300] Loss_D: 0.0804 Loss_G: 6.5782\n"
     ]
    },
    {
     "name": "stderr",
     "output_type": "stream",
     "text": [
      "100%|██████████| 62/62 [00:03<00:00, 15.68it/s]\n"
     ]
    },
    {
     "name": "stdout",
     "output_type": "stream",
     "text": [
      "Saved image: generated_images3/fake_samples_epoch_215.png\n",
      "Epoch [215/300] Loss_D: 0.0661 Loss_G: 6.4036\n"
     ]
    },
    {
     "name": "stderr",
     "output_type": "stream",
     "text": [
      "100%|██████████| 62/62 [00:03<00:00, 15.96it/s]\n"
     ]
    },
    {
     "name": "stdout",
     "output_type": "stream",
     "text": [
      "Saved image: generated_images3/fake_samples_epoch_216.png\n",
      "Epoch [216/300] Loss_D: 0.0115 Loss_G: 6.8006\n"
     ]
    },
    {
     "name": "stderr",
     "output_type": "stream",
     "text": [
      "100%|██████████| 62/62 [00:02<00:00, 28.71it/s]\n"
     ]
    },
    {
     "name": "stdout",
     "output_type": "stream",
     "text": [
      "Saved image: generated_images3/fake_samples_epoch_217.png\n",
      "Epoch [217/300] Loss_D: 0.0276 Loss_G: 5.6764\n"
     ]
    },
    {
     "name": "stderr",
     "output_type": "stream",
     "text": [
      "100%|██████████| 62/62 [00:04<00:00, 14.98it/s]\n"
     ]
    },
    {
     "name": "stdout",
     "output_type": "stream",
     "text": [
      "Saved image: generated_images3/fake_samples_epoch_218.png\n",
      "Epoch [218/300] Loss_D: 0.0876 Loss_G: 5.1974\n"
     ]
    },
    {
     "name": "stderr",
     "output_type": "stream",
     "text": [
      "100%|██████████| 62/62 [00:04<00:00, 15.16it/s]\n"
     ]
    },
    {
     "name": "stdout",
     "output_type": "stream",
     "text": [
      "Saved image: generated_images3/fake_samples_epoch_219.png\n",
      "Epoch [219/300] Loss_D: 0.0152 Loss_G: 6.7168\n"
     ]
    },
    {
     "name": "stderr",
     "output_type": "stream",
     "text": [
      "100%|██████████| 62/62 [00:04<00:00, 15.39it/s]\n"
     ]
    },
    {
     "name": "stdout",
     "output_type": "stream",
     "text": [
      "Saved image: generated_images3/fake_samples_epoch_220.png\n",
      "Epoch [220/300] Loss_D: 0.0177 Loss_G: 6.6606\n"
     ]
    },
    {
     "name": "stderr",
     "output_type": "stream",
     "text": [
      "100%|██████████| 62/62 [00:03<00:00, 15.57it/s]\n"
     ]
    },
    {
     "name": "stdout",
     "output_type": "stream",
     "text": [
      "Saved image: generated_images3/fake_samples_epoch_221.png\n",
      "Epoch [221/300] Loss_D: 0.0392 Loss_G: 7.3099\n"
     ]
    },
    {
     "name": "stderr",
     "output_type": "stream",
     "text": [
      "100%|██████████| 62/62 [00:04<00:00, 15.46it/s]\n"
     ]
    },
    {
     "name": "stdout",
     "output_type": "stream",
     "text": [
      "Saved image: generated_images3/fake_samples_epoch_222.png\n",
      "Epoch [222/300] Loss_D: 0.0071 Loss_G: 7.9209\n"
     ]
    },
    {
     "name": "stderr",
     "output_type": "stream",
     "text": [
      "100%|██████████| 62/62 [00:03<00:00, 15.58it/s]\n"
     ]
    },
    {
     "name": "stdout",
     "output_type": "stream",
     "text": [
      "Saved image: generated_images3/fake_samples_epoch_223.png\n",
      "Epoch [223/300] Loss_D: 0.0347 Loss_G: 5.9784\n"
     ]
    },
    {
     "name": "stderr",
     "output_type": "stream",
     "text": [
      "100%|██████████| 62/62 [00:03<00:00, 15.74it/s]\n"
     ]
    },
    {
     "name": "stdout",
     "output_type": "stream",
     "text": [
      "Saved image: generated_images3/fake_samples_epoch_224.png\n",
      "Epoch [224/300] Loss_D: 0.0635 Loss_G: 6.2287\n"
     ]
    },
    {
     "name": "stderr",
     "output_type": "stream",
     "text": [
      "100%|██████████| 62/62 [00:02<00:00, 22.38it/s]\n"
     ]
    },
    {
     "name": "stdout",
     "output_type": "stream",
     "text": [
      "Saved image: generated_images3/fake_samples_epoch_225.png\n",
      "Epoch [225/300] Loss_D: 0.0236 Loss_G: 6.0029\n"
     ]
    },
    {
     "name": "stderr",
     "output_type": "stream",
     "text": [
      "100%|██████████| 62/62 [00:03<00:00, 16.02it/s]\n"
     ]
    },
    {
     "name": "stdout",
     "output_type": "stream",
     "text": [
      "Saved image: generated_images3/fake_samples_epoch_226.png\n",
      "Epoch [226/300] Loss_D: 0.0283 Loss_G: 6.3017\n"
     ]
    },
    {
     "name": "stderr",
     "output_type": "stream",
     "text": [
      "100%|██████████| 62/62 [00:03<00:00, 16.12it/s]\n"
     ]
    },
    {
     "name": "stdout",
     "output_type": "stream",
     "text": [
      "Saved image: generated_images3/fake_samples_epoch_227.png\n",
      "Epoch [227/300] Loss_D: 0.0350 Loss_G: 5.5000\n"
     ]
    },
    {
     "name": "stderr",
     "output_type": "stream",
     "text": [
      "100%|██████████| 62/62 [00:03<00:00, 15.52it/s]\n"
     ]
    },
    {
     "name": "stdout",
     "output_type": "stream",
     "text": [
      "Saved image: generated_images3/fake_samples_epoch_228.png\n",
      "Epoch [228/300] Loss_D: 0.0898 Loss_G: 10.0325\n"
     ]
    },
    {
     "name": "stderr",
     "output_type": "stream",
     "text": [
      "100%|██████████| 62/62 [00:03<00:00, 15.68it/s]\n"
     ]
    },
    {
     "name": "stdout",
     "output_type": "stream",
     "text": [
      "Saved image: generated_images3/fake_samples_epoch_229.png\n",
      "Epoch [229/300] Loss_D: 0.1163 Loss_G: 6.9473\n"
     ]
    },
    {
     "name": "stderr",
     "output_type": "stream",
     "text": [
      "100%|██████████| 62/62 [00:03<00:00, 15.59it/s]\n"
     ]
    },
    {
     "name": "stdout",
     "output_type": "stream",
     "text": [
      "Saved image: generated_images3/fake_samples_epoch_230.png\n",
      "Epoch [230/300] Loss_D: 0.0218 Loss_G: 5.8233\n"
     ]
    },
    {
     "name": "stderr",
     "output_type": "stream",
     "text": [
      "100%|██████████| 62/62 [00:03<00:00, 15.67it/s]\n"
     ]
    },
    {
     "name": "stdout",
     "output_type": "stream",
     "text": [
      "Saved image: generated_images3/fake_samples_epoch_231.png\n",
      "Epoch [231/300] Loss_D: 0.0202 Loss_G: 5.9667\n"
     ]
    },
    {
     "name": "stderr",
     "output_type": "stream",
     "text": [
      "100%|██████████| 62/62 [00:03<00:00, 15.50it/s]\n"
     ]
    },
    {
     "name": "stdout",
     "output_type": "stream",
     "text": [
      "Saved image: generated_images3/fake_samples_epoch_232.png\n",
      "Epoch [232/300] Loss_D: 0.0151 Loss_G: 6.2755\n"
     ]
    },
    {
     "name": "stderr",
     "output_type": "stream",
     "text": [
      "100%|██████████| 62/62 [00:02<00:00, 23.48it/s]\n"
     ]
    },
    {
     "name": "stdout",
     "output_type": "stream",
     "text": [
      "Saved image: generated_images3/fake_samples_epoch_233.png\n",
      "Epoch [233/300] Loss_D: 0.0214 Loss_G: 7.3522\n"
     ]
    },
    {
     "name": "stderr",
     "output_type": "stream",
     "text": [
      "100%|██████████| 62/62 [00:03<00:00, 15.60it/s]\n"
     ]
    },
    {
     "name": "stdout",
     "output_type": "stream",
     "text": [
      "Saved image: generated_images3/fake_samples_epoch_234.png\n",
      "Epoch [234/300] Loss_D: 0.0200 Loss_G: 6.4599\n"
     ]
    },
    {
     "name": "stderr",
     "output_type": "stream",
     "text": [
      "100%|██████████| 62/62 [00:03<00:00, 15.76it/s]\n"
     ]
    },
    {
     "name": "stdout",
     "output_type": "stream",
     "text": [
      "Saved image: generated_images3/fake_samples_epoch_235.png\n",
      "Epoch [235/300] Loss_D: 0.0086 Loss_G: 8.2056\n"
     ]
    },
    {
     "name": "stderr",
     "output_type": "stream",
     "text": [
      "100%|██████████| 62/62 [00:04<00:00, 14.39it/s]\n"
     ]
    },
    {
     "name": "stdout",
     "output_type": "stream",
     "text": [
      "Saved image: generated_images3/fake_samples_epoch_236.png\n",
      "Epoch [236/300] Loss_D: 0.0452 Loss_G: 9.0687\n"
     ]
    },
    {
     "name": "stderr",
     "output_type": "stream",
     "text": [
      "100%|██████████| 62/62 [00:03<00:00, 15.97it/s]\n"
     ]
    },
    {
     "name": "stdout",
     "output_type": "stream",
     "text": [
      "Saved image: generated_images3/fake_samples_epoch_237.png\n",
      "Epoch [237/300] Loss_D: 0.0391 Loss_G: 8.5265\n"
     ]
    },
    {
     "name": "stderr",
     "output_type": "stream",
     "text": [
      "100%|██████████| 62/62 [00:03<00:00, 15.98it/s]\n"
     ]
    },
    {
     "name": "stdout",
     "output_type": "stream",
     "text": [
      "Saved image: generated_images3/fake_samples_epoch_238.png\n",
      "Epoch [238/300] Loss_D: 0.0097 Loss_G: 6.9056\n"
     ]
    },
    {
     "name": "stderr",
     "output_type": "stream",
     "text": [
      "100%|██████████| 62/62 [00:03<00:00, 15.86it/s]\n"
     ]
    },
    {
     "name": "stdout",
     "output_type": "stream",
     "text": [
      "Saved image: generated_images3/fake_samples_epoch_239.png\n",
      "Epoch [239/300] Loss_D: 0.1859 Loss_G: 9.5173\n"
     ]
    },
    {
     "name": "stderr",
     "output_type": "stream",
     "text": [
      "100%|██████████| 62/62 [00:04<00:00, 15.22it/s]\n"
     ]
    },
    {
     "name": "stdout",
     "output_type": "stream",
     "text": [
      "Saved image: generated_images3/fake_samples_epoch_240.png\n",
      "Epoch [240/300] Loss_D: 0.2918 Loss_G: 3.7453\n"
     ]
    },
    {
     "name": "stderr",
     "output_type": "stream",
     "text": [
      "100%|██████████| 62/62 [00:02<00:00, 21.77it/s]\n"
     ]
    },
    {
     "name": "stdout",
     "output_type": "stream",
     "text": [
      "Saved image: generated_images3/fake_samples_epoch_241.png\n",
      "Epoch [241/300] Loss_D: 0.0587 Loss_G: 6.9235\n"
     ]
    },
    {
     "name": "stderr",
     "output_type": "stream",
     "text": [
      "100%|██████████| 62/62 [00:04<00:00, 15.19it/s]\n"
     ]
    },
    {
     "name": "stdout",
     "output_type": "stream",
     "text": [
      "Saved image: generated_images3/fake_samples_epoch_242.png\n",
      "Epoch [242/300] Loss_D: 0.1225 Loss_G: 4.6746\n"
     ]
    },
    {
     "name": "stderr",
     "output_type": "stream",
     "text": [
      "100%|██████████| 62/62 [00:03<00:00, 15.74it/s]\n"
     ]
    },
    {
     "name": "stdout",
     "output_type": "stream",
     "text": [
      "Saved image: generated_images3/fake_samples_epoch_243.png\n",
      "Epoch [243/300] Loss_D: 0.0345 Loss_G: 5.0831\n"
     ]
    },
    {
     "name": "stderr",
     "output_type": "stream",
     "text": [
      "100%|██████████| 62/62 [00:04<00:00, 15.21it/s]\n"
     ]
    },
    {
     "name": "stdout",
     "output_type": "stream",
     "text": [
      "Saved image: generated_images3/fake_samples_epoch_244.png\n",
      "Epoch [244/300] Loss_D: 0.0681 Loss_G: 5.6552\n"
     ]
    },
    {
     "name": "stderr",
     "output_type": "stream",
     "text": [
      "100%|██████████| 62/62 [00:04<00:00, 15.05it/s]\n"
     ]
    },
    {
     "name": "stdout",
     "output_type": "stream",
     "text": [
      "Saved image: generated_images3/fake_samples_epoch_245.png\n",
      "Epoch [245/300] Loss_D: 0.0441 Loss_G: 5.3431\n"
     ]
    },
    {
     "name": "stderr",
     "output_type": "stream",
     "text": [
      "100%|██████████| 62/62 [00:04<00:00, 15.07it/s]\n"
     ]
    },
    {
     "name": "stdout",
     "output_type": "stream",
     "text": [
      "Saved image: generated_images3/fake_samples_epoch_246.png\n",
      "Epoch [246/300] Loss_D: 0.0214 Loss_G: 5.7640\n"
     ]
    },
    {
     "name": "stderr",
     "output_type": "stream",
     "text": [
      "100%|██████████| 62/62 [00:03<00:00, 16.29it/s]\n"
     ]
    },
    {
     "name": "stdout",
     "output_type": "stream",
     "text": [
      "Saved image: generated_images3/fake_samples_epoch_247.png\n",
      "Epoch [247/300] Loss_D: 0.0189 Loss_G: 7.0534\n"
     ]
    },
    {
     "name": "stderr",
     "output_type": "stream",
     "text": [
      "100%|██████████| 62/62 [00:03<00:00, 16.04it/s]\n"
     ]
    },
    {
     "name": "stdout",
     "output_type": "stream",
     "text": [
      "Saved image: generated_images3/fake_samples_epoch_248.png\n",
      "Epoch [248/300] Loss_D: 0.1044 Loss_G: 12.1009\n"
     ]
    },
    {
     "name": "stderr",
     "output_type": "stream",
     "text": [
      "100%|██████████| 62/62 [00:02<00:00, 23.04it/s]\n"
     ]
    },
    {
     "name": "stdout",
     "output_type": "stream",
     "text": [
      "Saved image: generated_images3/fake_samples_epoch_249.png\n",
      "Epoch [249/300] Loss_D: 0.0102 Loss_G: 6.5018\n"
     ]
    },
    {
     "name": "stderr",
     "output_type": "stream",
     "text": [
      "100%|██████████| 62/62 [00:03<00:00, 15.92it/s]\n"
     ]
    },
    {
     "name": "stdout",
     "output_type": "stream",
     "text": [
      "Saved image: generated_images3/fake_samples_epoch_250.png\n",
      "Epoch [250/300] Loss_D: 0.0607 Loss_G: 8.5620\n"
     ]
    },
    {
     "name": "stderr",
     "output_type": "stream",
     "text": [
      "100%|██████████| 62/62 [00:03<00:00, 15.88it/s]\n"
     ]
    },
    {
     "name": "stdout",
     "output_type": "stream",
     "text": [
      "Saved image: generated_images3/fake_samples_epoch_251.png\n",
      "Epoch [251/300] Loss_D: 0.0170 Loss_G: 6.5276\n"
     ]
    },
    {
     "name": "stderr",
     "output_type": "stream",
     "text": [
      "100%|██████████| 62/62 [00:04<00:00, 15.30it/s]\n"
     ]
    },
    {
     "name": "stdout",
     "output_type": "stream",
     "text": [
      "Saved image: generated_images3/fake_samples_epoch_252.png\n",
      "Epoch [252/300] Loss_D: 0.0126 Loss_G: 6.3828\n"
     ]
    },
    {
     "name": "stderr",
     "output_type": "stream",
     "text": [
      "100%|██████████| 62/62 [00:04<00:00, 15.43it/s]\n"
     ]
    },
    {
     "name": "stdout",
     "output_type": "stream",
     "text": [
      "Saved image: generated_images3/fake_samples_epoch_253.png\n",
      "Epoch [253/300] Loss_D: 0.6764 Loss_G: 0.4022\n"
     ]
    },
    {
     "name": "stderr",
     "output_type": "stream",
     "text": [
      "100%|██████████| 62/62 [00:04<00:00, 15.37it/s]\n"
     ]
    },
    {
     "name": "stdout",
     "output_type": "stream",
     "text": [
      "Saved image: generated_images3/fake_samples_epoch_254.png\n",
      "Epoch [254/300] Loss_D: 0.2265 Loss_G: 3.3785\n"
     ]
    },
    {
     "name": "stderr",
     "output_type": "stream",
     "text": [
      "100%|██████████| 62/62 [00:04<00:00, 14.64it/s]\n"
     ]
    },
    {
     "name": "stdout",
     "output_type": "stream",
     "text": [
      "Saved image: generated_images3/fake_samples_epoch_255.png\n",
      "Epoch [255/300] Loss_D: 0.0412 Loss_G: 5.0782\n"
     ]
    },
    {
     "name": "stderr",
     "output_type": "stream",
     "text": [
      "100%|██████████| 62/62 [00:03<00:00, 15.92it/s]\n"
     ]
    },
    {
     "name": "stdout",
     "output_type": "stream",
     "text": [
      "Saved image: generated_images3/fake_samples_epoch_256.png\n",
      "Epoch [256/300] Loss_D: 0.0775 Loss_G: 4.4754\n"
     ]
    },
    {
     "name": "stderr",
     "output_type": "stream",
     "text": [
      "100%|██████████| 62/62 [00:02<00:00, 22.69it/s]\n"
     ]
    },
    {
     "name": "stdout",
     "output_type": "stream",
     "text": [
      "Saved image: generated_images3/fake_samples_epoch_257.png\n",
      "Epoch [257/300] Loss_D: 0.0331 Loss_G: 5.7014\n"
     ]
    },
    {
     "name": "stderr",
     "output_type": "stream",
     "text": [
      "100%|██████████| 62/62 [00:03<00:00, 15.70it/s]\n"
     ]
    },
    {
     "name": "stdout",
     "output_type": "stream",
     "text": [
      "Saved image: generated_images3/fake_samples_epoch_258.png\n",
      "Epoch [258/300] Loss_D: 0.0992 Loss_G: 4.0462\n"
     ]
    },
    {
     "name": "stderr",
     "output_type": "stream",
     "text": [
      "100%|██████████| 62/62 [00:03<00:00, 16.83it/s]\n"
     ]
    },
    {
     "name": "stdout",
     "output_type": "stream",
     "text": [
      "Saved image: generated_images3/fake_samples_epoch_259.png\n",
      "Epoch [259/300] Loss_D: 0.0189 Loss_G: 6.9358\n"
     ]
    },
    {
     "name": "stderr",
     "output_type": "stream",
     "text": [
      "100%|██████████| 62/62 [00:03<00:00, 16.14it/s]\n"
     ]
    },
    {
     "name": "stdout",
     "output_type": "stream",
     "text": [
      "Saved image: generated_images3/fake_samples_epoch_260.png\n",
      "Epoch [260/300] Loss_D: 0.0639 Loss_G: 5.1192\n"
     ]
    },
    {
     "name": "stderr",
     "output_type": "stream",
     "text": [
      "100%|██████████| 62/62 [00:03<00:00, 15.51it/s]\n"
     ]
    },
    {
     "name": "stdout",
     "output_type": "stream",
     "text": [
      "Saved image: generated_images3/fake_samples_epoch_261.png\n",
      "Epoch [261/300] Loss_D: 0.1333 Loss_G: 4.5340\n"
     ]
    },
    {
     "name": "stderr",
     "output_type": "stream",
     "text": [
      "100%|██████████| 62/62 [00:04<00:00, 14.97it/s]\n"
     ]
    },
    {
     "name": "stdout",
     "output_type": "stream",
     "text": [
      "Saved image: generated_images3/fake_samples_epoch_262.png\n",
      "Epoch [262/300] Loss_D: 0.0634 Loss_G: 5.5178\n"
     ]
    },
    {
     "name": "stderr",
     "output_type": "stream",
     "text": [
      "100%|██████████| 62/62 [00:04<00:00, 15.15it/s]\n"
     ]
    },
    {
     "name": "stdout",
     "output_type": "stream",
     "text": [
      "Saved image: generated_images3/fake_samples_epoch_263.png\n",
      "Epoch [263/300] Loss_D: 0.0403 Loss_G: 5.7909\n"
     ]
    },
    {
     "name": "stderr",
     "output_type": "stream",
     "text": [
      "100%|██████████| 62/62 [00:04<00:00, 15.20it/s]\n"
     ]
    },
    {
     "name": "stdout",
     "output_type": "stream",
     "text": [
      "Saved image: generated_images3/fake_samples_epoch_264.png\n",
      "Epoch [264/300] Loss_D: 0.0042 Loss_G: 7.9444\n"
     ]
    },
    {
     "name": "stderr",
     "output_type": "stream",
     "text": [
      "100%|██████████| 62/62 [00:02<00:00, 22.73it/s]\n"
     ]
    },
    {
     "name": "stdout",
     "output_type": "stream",
     "text": [
      "Saved image: generated_images3/fake_samples_epoch_265.png\n",
      "Epoch [265/300] Loss_D: 0.1444 Loss_G: 4.4104\n"
     ]
    },
    {
     "name": "stderr",
     "output_type": "stream",
     "text": [
      "100%|██████████| 62/62 [00:03<00:00, 15.62it/s]\n"
     ]
    },
    {
     "name": "stdout",
     "output_type": "stream",
     "text": [
      "Saved image: generated_images3/fake_samples_epoch_266.png\n",
      "Epoch [266/300] Loss_D: 0.0220 Loss_G: 6.5367\n"
     ]
    },
    {
     "name": "stderr",
     "output_type": "stream",
     "text": [
      "100%|██████████| 62/62 [00:04<00:00, 15.44it/s]\n"
     ]
    },
    {
     "name": "stdout",
     "output_type": "stream",
     "text": [
      "Saved image: generated_images3/fake_samples_epoch_267.png\n",
      "Epoch [267/300] Loss_D: 0.0228 Loss_G: 7.5385\n"
     ]
    },
    {
     "name": "stderr",
     "output_type": "stream",
     "text": [
      "100%|██████████| 62/62 [00:03<00:00, 15.59it/s]\n"
     ]
    },
    {
     "name": "stdout",
     "output_type": "stream",
     "text": [
      "Saved image: generated_images3/fake_samples_epoch_268.png\n",
      "Epoch [268/300] Loss_D: 0.0171 Loss_G: 6.1161\n"
     ]
    },
    {
     "name": "stderr",
     "output_type": "stream",
     "text": [
      "100%|██████████| 62/62 [00:03<00:00, 15.78it/s]\n"
     ]
    },
    {
     "name": "stdout",
     "output_type": "stream",
     "text": [
      "Saved image: generated_images3/fake_samples_epoch_269.png\n",
      "Epoch [269/300] Loss_D: 0.1087 Loss_G: 6.1375\n"
     ]
    },
    {
     "name": "stderr",
     "output_type": "stream",
     "text": [
      "100%|██████████| 62/62 [00:03<00:00, 15.63it/s]\n"
     ]
    },
    {
     "name": "stdout",
     "output_type": "stream",
     "text": [
      "Saved image: generated_images3/fake_samples_epoch_270.png\n",
      "Epoch [270/300] Loss_D: 0.0196 Loss_G: 6.6171\n"
     ]
    },
    {
     "name": "stderr",
     "output_type": "stream",
     "text": [
      "100%|██████████| 62/62 [00:04<00:00, 15.39it/s]\n"
     ]
    },
    {
     "name": "stdout",
     "output_type": "stream",
     "text": [
      "Saved image: generated_images3/fake_samples_epoch_271.png\n",
      "Epoch [271/300] Loss_D: 0.1720 Loss_G: 2.7723\n"
     ]
    },
    {
     "name": "stderr",
     "output_type": "stream",
     "text": [
      "100%|██████████| 62/62 [00:03<00:00, 15.92it/s]\n"
     ]
    },
    {
     "name": "stdout",
     "output_type": "stream",
     "text": [
      "Saved image: generated_images3/fake_samples_epoch_272.png\n",
      "Epoch [272/300] Loss_D: 0.0257 Loss_G: 6.3988\n"
     ]
    },
    {
     "name": "stderr",
     "output_type": "stream",
     "text": [
      "100%|██████████| 62/62 [00:02<00:00, 23.30it/s]\n"
     ]
    },
    {
     "name": "stdout",
     "output_type": "stream",
     "text": [
      "Saved image: generated_images3/fake_samples_epoch_273.png\n",
      "Epoch [273/300] Loss_D: 0.0496 Loss_G: 5.6091\n"
     ]
    },
    {
     "name": "stderr",
     "output_type": "stream",
     "text": [
      "100%|██████████| 62/62 [00:03<00:00, 15.87it/s]\n"
     ]
    },
    {
     "name": "stdout",
     "output_type": "stream",
     "text": [
      "Saved image: generated_images3/fake_samples_epoch_274.png\n",
      "Epoch [274/300] Loss_D: 0.0190 Loss_G: 6.3735\n"
     ]
    },
    {
     "name": "stderr",
     "output_type": "stream",
     "text": [
      "100%|██████████| 62/62 [00:03<00:00, 15.99it/s]\n"
     ]
    },
    {
     "name": "stdout",
     "output_type": "stream",
     "text": [
      "Saved image: generated_images3/fake_samples_epoch_275.png\n",
      "Epoch [275/300] Loss_D: 0.0073 Loss_G: 7.0591\n"
     ]
    },
    {
     "name": "stderr",
     "output_type": "stream",
     "text": [
      "100%|██████████| 62/62 [00:03<00:00, 16.04it/s]\n"
     ]
    },
    {
     "name": "stdout",
     "output_type": "stream",
     "text": [
      "Saved image: generated_images3/fake_samples_epoch_276.png\n",
      "Epoch [276/300] Loss_D: 0.5332 Loss_G: 7.3944\n"
     ]
    },
    {
     "name": "stderr",
     "output_type": "stream",
     "text": [
      "100%|██████████| 62/62 [00:03<00:00, 15.68it/s]\n"
     ]
    },
    {
     "name": "stdout",
     "output_type": "stream",
     "text": [
      "Saved image: generated_images3/fake_samples_epoch_277.png\n",
      "Epoch [277/300] Loss_D: 0.1713 Loss_G: 3.2724\n"
     ]
    },
    {
     "name": "stderr",
     "output_type": "stream",
     "text": [
      "100%|██████████| 62/62 [00:04<00:00, 13.84it/s]\n"
     ]
    },
    {
     "name": "stdout",
     "output_type": "stream",
     "text": [
      "Saved image: generated_images3/fake_samples_epoch_278.png\n",
      "Epoch [278/300] Loss_D: 0.0113 Loss_G: 5.8946\n"
     ]
    },
    {
     "name": "stderr",
     "output_type": "stream",
     "text": [
      "100%|██████████| 62/62 [00:04<00:00, 13.53it/s]\n"
     ]
    },
    {
     "name": "stdout",
     "output_type": "stream",
     "text": [
      "Saved image: generated_images3/fake_samples_epoch_279.png\n",
      "Epoch [279/300] Loss_D: 0.0368 Loss_G: 7.5212\n"
     ]
    },
    {
     "name": "stderr",
     "output_type": "stream",
     "text": [
      "100%|██████████| 62/62 [00:04<00:00, 15.45it/s]\n"
     ]
    },
    {
     "name": "stdout",
     "output_type": "stream",
     "text": [
      "Saved image: generated_images3/fake_samples_epoch_280.png\n",
      "Epoch [280/300] Loss_D: 0.0378 Loss_G: 5.5518\n"
     ]
    },
    {
     "name": "stderr",
     "output_type": "stream",
     "text": [
      "100%|██████████| 62/62 [00:02<00:00, 24.00it/s]\n"
     ]
    },
    {
     "name": "stdout",
     "output_type": "stream",
     "text": [
      "Saved image: generated_images3/fake_samples_epoch_281.png\n",
      "Epoch [281/300] Loss_D: 0.0162 Loss_G: 7.1077\n"
     ]
    },
    {
     "name": "stderr",
     "output_type": "stream",
     "text": [
      "100%|██████████| 62/62 [00:03<00:00, 16.23it/s]\n"
     ]
    },
    {
     "name": "stdout",
     "output_type": "stream",
     "text": [
      "Saved image: generated_images3/fake_samples_epoch_282.png\n",
      "Epoch [282/300] Loss_D: 0.0106 Loss_G: 6.9690\n"
     ]
    },
    {
     "name": "stderr",
     "output_type": "stream",
     "text": [
      "100%|██████████| 62/62 [00:03<00:00, 16.51it/s]\n"
     ]
    },
    {
     "name": "stdout",
     "output_type": "stream",
     "text": [
      "Saved image: generated_images3/fake_samples_epoch_283.png\n",
      "Epoch [283/300] Loss_D: 0.0670 Loss_G: 5.5327\n"
     ]
    },
    {
     "name": "stderr",
     "output_type": "stream",
     "text": [
      "100%|██████████| 62/62 [00:04<00:00, 15.36it/s]\n"
     ]
    },
    {
     "name": "stdout",
     "output_type": "stream",
     "text": [
      "Saved image: generated_images3/fake_samples_epoch_284.png\n",
      "Epoch [284/300] Loss_D: 0.0289 Loss_G: 6.3177\n"
     ]
    },
    {
     "name": "stderr",
     "output_type": "stream",
     "text": [
      "100%|██████████| 62/62 [00:03<00:00, 15.66it/s]\n"
     ]
    },
    {
     "name": "stdout",
     "output_type": "stream",
     "text": [
      "Saved image: generated_images3/fake_samples_epoch_285.png\n",
      "Epoch [285/300] Loss_D: 0.0097 Loss_G: 7.5840\n"
     ]
    },
    {
     "name": "stderr",
     "output_type": "stream",
     "text": [
      "100%|██████████| 62/62 [00:03<00:00, 15.80it/s]\n"
     ]
    },
    {
     "name": "stdout",
     "output_type": "stream",
     "text": [
      "Saved image: generated_images3/fake_samples_epoch_286.png\n",
      "Epoch [286/300] Loss_D: 0.0055 Loss_G: 8.2546\n"
     ]
    },
    {
     "name": "stderr",
     "output_type": "stream",
     "text": [
      "100%|██████████| 62/62 [00:04<00:00, 15.49it/s]\n"
     ]
    },
    {
     "name": "stdout",
     "output_type": "stream",
     "text": [
      "Saved image: generated_images3/fake_samples_epoch_287.png\n",
      "Epoch [287/300] Loss_D: 0.0038 Loss_G: 7.5573\n"
     ]
    },
    {
     "name": "stderr",
     "output_type": "stream",
     "text": [
      "100%|██████████| 62/62 [00:03<00:00, 15.76it/s]\n"
     ]
    },
    {
     "name": "stdout",
     "output_type": "stream",
     "text": [
      "Saved image: generated_images3/fake_samples_epoch_288.png\n",
      "Epoch [288/300] Loss_D: 0.1581 Loss_G: 2.3079\n"
     ]
    },
    {
     "name": "stderr",
     "output_type": "stream",
     "text": [
      "100%|██████████| 62/62 [00:02<00:00, 22.52it/s]\n"
     ]
    },
    {
     "name": "stdout",
     "output_type": "stream",
     "text": [
      "Saved image: generated_images3/fake_samples_epoch_289.png\n",
      "Epoch [289/300] Loss_D: 0.0042 Loss_G: 6.4184\n"
     ]
    },
    {
     "name": "stderr",
     "output_type": "stream",
     "text": [
      "100%|██████████| 62/62 [00:03<00:00, 15.87it/s]\n"
     ]
    },
    {
     "name": "stdout",
     "output_type": "stream",
     "text": [
      "Saved image: generated_images3/fake_samples_epoch_290.png\n",
      "Epoch [290/300] Loss_D: 0.0170 Loss_G: 7.2265\n"
     ]
    },
    {
     "name": "stderr",
     "output_type": "stream",
     "text": [
      "100%|██████████| 62/62 [00:03<00:00, 16.05it/s]\n"
     ]
    },
    {
     "name": "stdout",
     "output_type": "stream",
     "text": [
      "Saved image: generated_images3/fake_samples_epoch_291.png\n",
      "Epoch [291/300] Loss_D: 0.0136 Loss_G: 8.3528\n"
     ]
    },
    {
     "name": "stderr",
     "output_type": "stream",
     "text": [
      "100%|██████████| 62/62 [00:03<00:00, 15.72it/s]\n"
     ]
    },
    {
     "name": "stdout",
     "output_type": "stream",
     "text": [
      "Saved image: generated_images3/fake_samples_epoch_292.png\n",
      "Epoch [292/300] Loss_D: 0.0054 Loss_G: 7.3108\n"
     ]
    },
    {
     "name": "stderr",
     "output_type": "stream",
     "text": [
      "100%|██████████| 62/62 [00:03<00:00, 15.95it/s]\n"
     ]
    },
    {
     "name": "stdout",
     "output_type": "stream",
     "text": [
      "Saved image: generated_images3/fake_samples_epoch_293.png\n",
      "Epoch [293/300] Loss_D: 0.0168 Loss_G: 8.8498\n"
     ]
    },
    {
     "name": "stderr",
     "output_type": "stream",
     "text": [
      "100%|██████████| 62/62 [00:03<00:00, 15.78it/s]\n"
     ]
    },
    {
     "name": "stdout",
     "output_type": "stream",
     "text": [
      "Saved image: generated_images3/fake_samples_epoch_294.png\n",
      "Epoch [294/300] Loss_D: 0.1746 Loss_G: 3.4416\n"
     ]
    },
    {
     "name": "stderr",
     "output_type": "stream",
     "text": [
      "100%|██████████| 62/62 [00:03<00:00, 15.73it/s]\n"
     ]
    },
    {
     "name": "stdout",
     "output_type": "stream",
     "text": [
      "Saved image: generated_images3/fake_samples_epoch_295.png\n",
      "Epoch [295/300] Loss_D: 0.0721 Loss_G: 4.4899\n"
     ]
    },
    {
     "name": "stderr",
     "output_type": "stream",
     "text": [
      "100%|██████████| 62/62 [00:03<00:00, 15.82it/s]\n"
     ]
    },
    {
     "name": "stdout",
     "output_type": "stream",
     "text": [
      "Saved image: generated_images3/fake_samples_epoch_296.png\n",
      "Epoch [296/300] Loss_D: 0.0163 Loss_G: 7.1413\n"
     ]
    },
    {
     "name": "stderr",
     "output_type": "stream",
     "text": [
      "100%|██████████| 62/62 [00:02<00:00, 22.01it/s]\n"
     ]
    },
    {
     "name": "stdout",
     "output_type": "stream",
     "text": [
      "Saved image: generated_images3/fake_samples_epoch_297.png\n",
      "Epoch [297/300] Loss_D: 0.0087 Loss_G: 6.8282\n"
     ]
    },
    {
     "name": "stderr",
     "output_type": "stream",
     "text": [
      "100%|██████████| 62/62 [00:04<00:00, 15.30it/s]\n"
     ]
    },
    {
     "name": "stdout",
     "output_type": "stream",
     "text": [
      "Saved image: generated_images3/fake_samples_epoch_298.png\n",
      "Epoch [298/300] Loss_D: 0.0410 Loss_G: 7.9813\n"
     ]
    },
    {
     "name": "stderr",
     "output_type": "stream",
     "text": [
      "100%|██████████| 62/62 [00:04<00:00, 15.43it/s]\n"
     ]
    },
    {
     "name": "stdout",
     "output_type": "stream",
     "text": [
      "Saved image: generated_images3/fake_samples_epoch_299.png\n",
      "Epoch [299/300] Loss_D: 0.0313 Loss_G: 7.9297\n"
     ]
    },
    {
     "name": "stderr",
     "output_type": "stream",
     "text": [
      "100%|██████████| 62/62 [00:03<00:00, 15.71it/s]\n"
     ]
    },
    {
     "name": "stdout",
     "output_type": "stream",
     "text": [
      "Saved image: generated_images3/fake_samples_epoch_300.png\n",
      "Epoch [300/300] Loss_D: 0.0566 Loss_G: 4.9512\n"
     ]
    }
   ],
   "source": [
    "import os\n",
    "import torch\n",
    "import torch.nn as nn\n",
    "import torch.optim as optim\n",
    "import torchvision\n",
    "import torchvision.transforms as transforms\n",
    "from torch.utils.data import DataLoader, Dataset\n",
    "from PIL import Image\n",
    "from tqdm import tqdm\n",
    "\n",
    "# Create directory for saving generated images\n",
    "output_dir = \"generated_images3\"\n",
    "os.makedirs(output_dir, exist_ok=True)\n",
    "\n",
    "# Custom Dataset class\n",
    "class MRIDataset(Dataset):\n",
    "    def __init__(self, root_dir, transform=None):\n",
    "        self.root_dir = root_dir\n",
    "        self.transform = transform\n",
    "        self.image_paths = []\n",
    "\n",
    "        for root, _, files in os.walk(root_dir):\n",
    "            for file in files:\n",
    "                if file.endswith('.png'):\n",
    "                    self.image_paths.append(os.path.join(root, file))\n",
    "\n",
    "    def __len__(self):\n",
    "        return len(self.image_paths)\n",
    "\n",
    "    def __getitem__(self, idx):\n",
    "        img_path = self.image_paths[idx]\n",
    "        image = Image.open(img_path).convert('L')  # Convert to grayscale\n",
    "        \n",
    "        if self.transform:\n",
    "            image = self.transform(image)\n",
    "        \n",
    "        return image\n",
    "\n",
    "# Generator Network\n",
    "class Generator(nn.Module):\n",
    "    def __init__(self, latent_dim):\n",
    "        super(Generator, self).__init__()\n",
    "        self.main = nn.Sequential(\n",
    "            nn.ConvTranspose2d(latent_dim, 512, 4, 1, 0, bias=False),\n",
    "            nn.BatchNorm2d(512),\n",
    "            nn.ReLU(True),\n",
    "            nn.ConvTranspose2d(512, 256, 4, 2, 1, bias=False),\n",
    "            nn.BatchNorm2d(256),\n",
    "            nn.ReLU(True),\n",
    "            nn.ConvTranspose2d(256, 128, 4, 2, 1, bias=False),\n",
    "            nn.BatchNorm2d(128),\n",
    "            nn.ReLU(True),\n",
    "            nn.ConvTranspose2d(128, 64, 4, 2, 1, bias=False),\n",
    "            nn.BatchNorm2d(64),\n",
    "            nn.ReLU(True),\n",
    "            nn.ConvTranspose2d(64, 1, 4, 2, 1, bias=False),\n",
    "            nn.Tanh()\n",
    "        )\n",
    "\n",
    "    def forward(self, x):\n",
    "        return self.main(x)\n",
    "\n",
    "# Discriminator Network\n",
    "class Discriminator(nn.Module):\n",
    "    def __init__(self):\n",
    "        super(Discriminator, self).__init__()\n",
    "        self.main = nn.Sequential(\n",
    "            nn.Conv2d(1, 64, 4, 2, 1, bias=False),\n",
    "            nn.LeakyReLU(0.2, inplace=True),\n",
    "            nn.Conv2d(64, 128, 4, 2, 1, bias=False),\n",
    "            nn.BatchNorm2d(128),\n",
    "            nn.LeakyReLU(0.2, inplace=True),\n",
    "            nn.Conv2d(128, 256, 4, 2, 1, bias=False),\n",
    "            nn.BatchNorm2d(256),\n",
    "            nn.LeakyReLU(0.2, inplace=True),\n",
    "            nn.Conv2d(256, 512, 4, 2, 1, bias=False),\n",
    "            nn.BatchNorm2d(512),\n",
    "            nn.LeakyReLU(0.2, inplace=True),\n",
    "            nn.Conv2d(512, 1, 4, 1, 0, bias=False),\n",
    "            nn.Sigmoid()\n",
    "        )\n",
    "\n",
    "    def forward(self, x):\n",
    "        return self.main(x)\n",
    "\n",
    "# Training function\n",
    "def train_gan(dataloader, num_epochs, latent_dim, device):\n",
    "    netG = Generator(latent_dim).to(device)\n",
    "    netD = Discriminator().to(device)\n",
    "    \n",
    "    criterion = nn.BCELoss()\n",
    "    optimizerD = optim.Adam(netD.parameters(), lr=0.0002, betas=(0.5, 0.999))\n",
    "    optimizerG = optim.Adam(netG.parameters(), lr=0.0002, betas=(0.5, 0.999))\n",
    "    \n",
    "    fixed_noise = torch.randn(64, latent_dim, 1, 1, device=device)\n",
    "\n",
    "    for epoch in range(num_epochs):\n",
    "        for i, data in enumerate(tqdm(dataloader)):\n",
    "            batch_size = data.size(0)\n",
    "            real_label = torch.ones(batch_size, device=device)\n",
    "            fake_label = torch.zeros(batch_size, device=device)\n",
    "\n",
    "            # Train Discriminator\n",
    "            netD.zero_grad()\n",
    "            real = data.to(device)\n",
    "            output = netD(real).view(-1)\n",
    "            errD_real = criterion(output, real_label)\n",
    "            errD_real.backward()\n",
    "\n",
    "            noise = torch.randn(batch_size, latent_dim, 1, 1, device=device)\n",
    "            fake = netG(noise)\n",
    "            output = netD(fake.detach()).view(-1)\n",
    "            errD_fake = criterion(output, fake_label)\n",
    "            errD_fake.backward()\n",
    "            \n",
    "            errD = errD_real + errD_fake\n",
    "            optimizerD.step()\n",
    "\n",
    "            # Train Generator\n",
    "            netG.zero_grad()\n",
    "            output = netD(fake).view(-1)\n",
    "            errG = criterion(output, real_label)\n",
    "            errG.backward()\n",
    "            optimizerG.step()\n",
    "\n",
    "        # Save generated images every epoch in the new folder\n",
    "        if (epoch + 1) % 1 == 0:\n",
    "            with torch.no_grad():\n",
    "                fake = netG(fixed_noise)\n",
    "                save_path = os.path.join(output_dir, f'fake_samples_epoch_{epoch+1}.png')\n",
    "                torchvision.utils.save_image(fake.detach(), save_path, normalize=True)\n",
    "            print(f\"Saved image: {save_path}\")\n",
    "\n",
    "        print(f'Epoch [{epoch+1}/{num_epochs}] Loss_D: {errD.item():.4f} Loss_G: {errG.item():.4f}')\n",
    "    \n",
    "    return netG, netD\n",
    "\n",
    "# Main execution\n",
    "if __name__ == \"__main__\":\n",
    "    # Hyperparameters\n",
    "    latent_dim = 100\n",
    "    image_size = 64\n",
    "    batch_size = 64\n",
    "    num_epochs = 300\n",
    "    \n",
    "    # Set device\n",
    "    device = torch.device(\"cuda\" if torch.cuda.is_available() else \"cpu\")\n",
    "    \n",
    "    # Data preprocessing\n",
    "    transform = transforms.Compose([\n",
    "        transforms.Resize(image_size),\n",
    "        transforms.CenterCrop(image_size),\n",
    "        transforms.ToTensor(),\n",
    "        transforms.Normalize((0.5,), (0.5,))\n",
    "    ])\n",
    "    \n",
    "    # Load dataset\n",
    "    dataset = MRIDataset(root_dir='converted_images', transform=transform)\n",
    "    dataloader = DataLoader(dataset, batch_size=batch_size, shuffle=True, num_workers=2)\n",
    "    \n",
    "    # Train the model\n",
    "    generator, discriminator = train_gan(dataloader, num_epochs, latent_dim, device)\n",
    "    \n",
    "    # Save the models\n",
    "    torch.save(generator.state_dict(), 'generator.pth')\n",
    "    torch.save(discriminator.state_dict(), 'discriminator.pth')\n"
   ]
  }
 ],
 "metadata": {
  "kernelspec": {
   "display_name": "mri_gan",
   "language": "python",
   "name": "python3"
  },
  "language_info": {
   "codemirror_mode": {
    "name": "ipython",
    "version": 3
   },
   "file_extension": ".py",
   "mimetype": "text/x-python",
   "name": "python",
   "nbconvert_exporter": "python",
   "pygments_lexer": "ipython3",
   "version": "3.8.20"
  }
 },
 "nbformat": 4,
 "nbformat_minor": 2
}
